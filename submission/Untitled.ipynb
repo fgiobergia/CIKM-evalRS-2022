{
 "cells": [
  {
   "cell_type": "code",
   "execution_count": 43,
   "id": "f9a1a313",
   "metadata": {},
   "outputs": [],
   "source": [
    "%run -i MyModel"
   ]
  },
  {
   "cell_type": "code",
   "execution_count": 44,
   "id": "04e2bd59",
   "metadata": {},
   "outputs": [],
   "source": [
    "import sys\n",
    "sys.path.insert(0, \"..\")"
   ]
  },
  {
   "cell_type": "code",
   "execution_count": 61,
   "id": "d5f8a623",
   "metadata": {},
   "outputs": [],
   "source": [
    "from evaluation.EvalRSRunner import ChallengeDataset\n",
    "import numpy as np"
   ]
  },
  {
   "cell_type": "code",
   "execution_count": 258,
   "id": "1e2b1baa",
   "metadata": {},
   "outputs": [
    {
     "name": "stdout",
     "output_type": "stream",
     "text": [
      "/home/fgiobergia/.cache/evalrs/evalrs_dataset\n",
      "LFM dataset already downloaded. Skipping download.\n",
      "Loading dataset.\n",
      "Generating folds.\n",
      "Generating dataset hashes.\n"
     ]
    }
   ],
   "source": [
    "dataset = ChallengeDataset()"
   ]
  },
  {
   "cell_type": "code",
   "execution_count": 47,
   "id": "1b0e0835",
   "metadata": {},
   "outputs": [],
   "source": [
    "train, test = dataset.get_sample_train_test()"
   ]
  },
  {
   "cell_type": "code",
   "execution_count": 49,
   "id": "986b9562",
   "metadata": {},
   "outputs": [],
   "source": [
    "model = MyModel(dataset.df_tracks, dataset.df_users, 100)"
   ]
  },
  {
   "cell_type": "code",
   "execution_count": 50,
   "id": "1ec4dc7c",
   "metadata": {},
   "outputs": [
    {
     "name": "stdout",
     "output_type": "stream",
     "text": [
      "batch size 512 #epochs 2 emb dim 256 margin 0.75\n",
      "{'artist_id': 10000.0, 'track_id': 100000.0, 'gender': 1.0, 'country': 100.0, 'user_id': 10000.0}\n",
      "Training with 6870775 records 29696 users 228335 tracks\n",
      "Epoch 1/2\n"
     ]
    },
    {
     "name": "stderr",
     "output_type": "stream",
     "text": [
      "100%|██████████████████████████████████████████████████████████████████████████████████████████████████████████████████████████████████████████████████| 13420/13420 [04:43<00:00, 32.07it/s, loss=0.483][W CudaIPCTypes.cpp:15] Producer process has been terminated before all shared CUDA tensors released. See Note [Sharing CUDA tensors]\n",
      "[W CudaIPCTypes.cpp:15] Producer process has been terminated before all shared CUDA tensors released. See Note [Sharing CUDA tensors]\n",
      "100%|██████████████████████████████████████████████████████████████████████████████████████████████████████████████████████████████████████████████████| 13420/13420 [04:43<00:00, 47.27it/s, loss=0.483]"
     ]
    },
    {
     "name": "stdout",
     "output_type": "stream",
     "text": [
      "Epoch 2/2\n"
     ]
    },
    {
     "name": "stderr",
     "output_type": "stream",
     "text": [
      "\n",
      "100%|█████████████████████████████████████████████████████████████████████████████████████████████████████████████████████████████████████████████████▉| 13414/13420 [04:05<00:00, 51.37it/s, loss=0.393][W CudaIPCTypes.cpp:15] Producer process has been terminated before all shared CUDA tensors released. See Note [Sharing CUDA tensors]\n",
      "[W CudaIPCTypes.cpp:15] Producer process has been terminated before all shared CUDA tensors released. See Note [Sharing CUDA tensors]\n",
      "100%|██████████████████████████████████████████████████████████████████████████████████████████████████████████████████████████████████████████████████| 13420/13420 [04:06<00:00, 54.53it/s, loss=0.393]\n"
     ]
    }
   ],
   "source": [
    "model.train(train)"
   ]
  },
  {
   "cell_type": "code",
   "execution_count": 51,
   "id": "cf1f43f2",
   "metadata": {},
   "outputs": [],
   "source": [
    "mod = model.cmodel"
   ]
  },
  {
   "cell_type": "code",
   "execution_count": 272,
   "id": "488e5c70",
   "metadata": {},
   "outputs": [
    {
     "data": {
      "text/plain": [
       "user_id\n",
       "1066341     10\n",
       "2988053     10\n",
       "11187527    10\n",
       "11272769    10\n",
       "11777863    10\n",
       "22132183    10\n",
       "25214274    10\n",
       "42971897    10\n",
       "46305108    10\n",
       "47258693    10\n",
       "47450236    10\n",
       "47577645    10\n",
       "48161721    10\n",
       "48326370    10\n",
       "48597700    10\n",
       "48782197    10\n",
       "48873991    10\n",
       "49060313    10\n",
       "49102227    10\n",
       "49426411    10\n",
       "49627010    10\n",
       "49627522    10\n",
       "49669699    10\n",
       "49694550    10\n",
       "49834020    10\n",
       "49990624    10\n",
       "50002318    10\n",
       "50013622    10\n",
       "50051384    10\n",
       "50065999    10\n",
       "50067923    10\n",
       "dtype: int64"
      ]
     },
     "execution_count": 272,
     "metadata": {},
     "output_type": "execute_result"
    }
   ],
   "source": [
    "train.groupby(\"user_id\").size()[train.groupby(\"user_id\").size()==10]"
   ]
  },
  {
   "cell_type": "code",
   "execution_count": 273,
   "id": "2b1aa377",
   "metadata": {},
   "outputs": [
    {
     "data": {
      "text/html": [
       "<div>\n",
       "<style scoped>\n",
       "    .dataframe tbody tr th:only-of-type {\n",
       "        vertical-align: middle;\n",
       "    }\n",
       "\n",
       "    .dataframe tbody tr th {\n",
       "        vertical-align: top;\n",
       "    }\n",
       "\n",
       "    .dataframe thead th {\n",
       "        text-align: right;\n",
       "    }\n",
       "</style>\n",
       "<table border=\"1\" class=\"dataframe\">\n",
       "  <thead>\n",
       "    <tr style=\"text-align: right;\">\n",
       "      <th></th>\n",
       "      <th>user_id</th>\n",
       "      <th>artist_id_x</th>\n",
       "      <th>album_id</th>\n",
       "      <th>track_id</th>\n",
       "      <th>timestamp</th>\n",
       "      <th>user_track_count</th>\n",
       "      <th>track</th>\n",
       "      <th>artist_id_y</th>\n",
       "      <th>artist</th>\n",
       "      <th>albums_id</th>\n",
       "      <th>albums</th>\n",
       "    </tr>\n",
       "  </thead>\n",
       "  <tbody>\n",
       "    <tr>\n",
       "      <th>205471694</th>\n",
       "      <td>2988053</td>\n",
       "      <td>79017</td>\n",
       "      <td>218812</td>\n",
       "      <td>615053</td>\n",
       "      <td>1384470672</td>\n",
       "      <td>2</td>\n",
       "      <td>Autumn II</td>\n",
       "      <td>79017</td>\n",
       "      <td>Gallowbraid</td>\n",
       "      <td>[218812, 254885, 732362, 12066790]</td>\n",
       "      <td>['Ashen Eidolon', nan, 'Ashen Eidolon (EP)', '...</td>\n",
       "    </tr>\n",
       "    <tr>\n",
       "      <th>205471698</th>\n",
       "      <td>2988053</td>\n",
       "      <td>79017</td>\n",
       "      <td>218812</td>\n",
       "      <td>614896</td>\n",
       "      <td>1384469727</td>\n",
       "      <td>2</td>\n",
       "      <td>Autumn I</td>\n",
       "      <td>79017</td>\n",
       "      <td>Gallowbraid</td>\n",
       "      <td>[218812, 254885, 1650325, 12066790]</td>\n",
       "      <td>['Ashen Eidolon', nan, 'Ashen Eidolon MCD', 'A...</td>\n",
       "    </tr>\n",
       "    <tr>\n",
       "      <th>205471700</th>\n",
       "      <td>2988053</td>\n",
       "      <td>79017</td>\n",
       "      <td>218812</td>\n",
       "      <td>614160</td>\n",
       "      <td>1384468848</td>\n",
       "      <td>2</td>\n",
       "      <td>Ashen Eidolon</td>\n",
       "      <td>79017</td>\n",
       "      <td>Gallowbraid</td>\n",
       "      <td>[218812, 254885, 2467133, 12066790]</td>\n",
       "      <td>['Ashen Eidolon', nan, 'Threnodies sound in au...</td>\n",
       "    </tr>\n",
       "    <tr>\n",
       "      <th>205474264</th>\n",
       "      <td>2988053</td>\n",
       "      <td>14804</td>\n",
       "      <td>30918</td>\n",
       "      <td>416482</td>\n",
       "      <td>1380220760</td>\n",
       "      <td>2</td>\n",
       "      <td>One More Day</td>\n",
       "      <td>14804</td>\n",
       "      <td>Dead in the Dirt</td>\n",
       "      <td>[30918]</td>\n",
       "      <td>['The Blind Hole']</td>\n",
       "    </tr>\n",
       "    <tr>\n",
       "      <th>205474266</th>\n",
       "      <td>2988053</td>\n",
       "      <td>14804</td>\n",
       "      <td>30918</td>\n",
       "      <td>416483</td>\n",
       "      <td>1380220556</td>\n",
       "      <td>2</td>\n",
       "      <td>Will Is The War</td>\n",
       "      <td>14804</td>\n",
       "      <td>Dead in the Dirt</td>\n",
       "      <td>[30918]</td>\n",
       "      <td>['The Blind Hole']</td>\n",
       "    </tr>\n",
       "    <tr>\n",
       "      <th>205474270</th>\n",
       "      <td>2988053</td>\n",
       "      <td>14804</td>\n",
       "      <td>30918</td>\n",
       "      <td>91053</td>\n",
       "      <td>1380220396</td>\n",
       "      <td>2</td>\n",
       "      <td>Cop</td>\n",
       "      <td>14804</td>\n",
       "      <td>Dead in the Dirt</td>\n",
       "      <td>[30918]</td>\n",
       "      <td>['The Blind Hole']</td>\n",
       "    </tr>\n",
       "    <tr>\n",
       "      <th>205474272</th>\n",
       "      <td>2988053</td>\n",
       "      <td>14804</td>\n",
       "      <td>30918</td>\n",
       "      <td>416484</td>\n",
       "      <td>1380220285</td>\n",
       "      <td>2</td>\n",
       "      <td>You Bury Me</td>\n",
       "      <td>14804</td>\n",
       "      <td>Dead in the Dirt</td>\n",
       "      <td>[30918]</td>\n",
       "      <td>['The Blind Hole']</td>\n",
       "    </tr>\n",
       "    <tr>\n",
       "      <th>205474274</th>\n",
       "      <td>2988053</td>\n",
       "      <td>14804</td>\n",
       "      <td>30918</td>\n",
       "      <td>416485</td>\n",
       "      <td>1380220170</td>\n",
       "      <td>2</td>\n",
       "      <td>Strength Through Restraint</td>\n",
       "      <td>14804</td>\n",
       "      <td>Dead in the Dirt</td>\n",
       "      <td>[30918]</td>\n",
       "      <td>['The Blind Hole']</td>\n",
       "    </tr>\n",
       "    <tr>\n",
       "      <th>205474276</th>\n",
       "      <td>2988053</td>\n",
       "      <td>14804</td>\n",
       "      <td>30918</td>\n",
       "      <td>416486</td>\n",
       "      <td>1380220116</td>\n",
       "      <td>2</td>\n",
       "      <td>The Blaring Eye</td>\n",
       "      <td>14804</td>\n",
       "      <td>Dead in the Dirt</td>\n",
       "      <td>[30918]</td>\n",
       "      <td>['The Blind Hole']</td>\n",
       "    </tr>\n",
       "    <tr>\n",
       "      <th>205474278</th>\n",
       "      <td>2988053</td>\n",
       "      <td>14804</td>\n",
       "      <td>30918</td>\n",
       "      <td>416487</td>\n",
       "      <td>1380220064</td>\n",
       "      <td>2</td>\n",
       "      <td>suffer</td>\n",
       "      <td>14804</td>\n",
       "      <td>Dead in the Dirt</td>\n",
       "      <td>[30918]</td>\n",
       "      <td>['The Blind Hole']</td>\n",
       "    </tr>\n",
       "  </tbody>\n",
       "</table>\n",
       "</div>"
      ],
      "text/plain": [
       "           user_id  artist_id_x  album_id  track_id   timestamp  \\\n",
       "205471694  2988053        79017    218812    615053  1384470672   \n",
       "205471698  2988053        79017    218812    614896  1384469727   \n",
       "205471700  2988053        79017    218812    614160  1384468848   \n",
       "205474264  2988053        14804     30918    416482  1380220760   \n",
       "205474266  2988053        14804     30918    416483  1380220556   \n",
       "205474270  2988053        14804     30918     91053  1380220396   \n",
       "205474272  2988053        14804     30918    416484  1380220285   \n",
       "205474274  2988053        14804     30918    416485  1380220170   \n",
       "205474276  2988053        14804     30918    416486  1380220116   \n",
       "205474278  2988053        14804     30918    416487  1380220064   \n",
       "\n",
       "           user_track_count                       track  artist_id_y  \\\n",
       "205471694                 2                   Autumn II        79017   \n",
       "205471698                 2                    Autumn I        79017   \n",
       "205471700                 2               Ashen Eidolon        79017   \n",
       "205474264                 2                One More Day        14804   \n",
       "205474266                 2             Will Is The War        14804   \n",
       "205474270                 2                         Cop        14804   \n",
       "205474272                 2                 You Bury Me        14804   \n",
       "205474274                 2  Strength Through Restraint        14804   \n",
       "205474276                 2             The Blaring Eye        14804   \n",
       "205474278                 2                      suffer        14804   \n",
       "\n",
       "                     artist                            albums_id  \\\n",
       "205471694       Gallowbraid   [218812, 254885, 732362, 12066790]   \n",
       "205471698       Gallowbraid  [218812, 254885, 1650325, 12066790]   \n",
       "205471700       Gallowbraid  [218812, 254885, 2467133, 12066790]   \n",
       "205474264  Dead in the Dirt                              [30918]   \n",
       "205474266  Dead in the Dirt                              [30918]   \n",
       "205474270  Dead in the Dirt                              [30918]   \n",
       "205474272  Dead in the Dirt                              [30918]   \n",
       "205474274  Dead in the Dirt                              [30918]   \n",
       "205474276  Dead in the Dirt                              [30918]   \n",
       "205474278  Dead in the Dirt                              [30918]   \n",
       "\n",
       "                                                      albums  \n",
       "205471694  ['Ashen Eidolon', nan, 'Ashen Eidolon (EP)', '...  \n",
       "205471698  ['Ashen Eidolon', nan, 'Ashen Eidolon MCD', 'A...  \n",
       "205471700  ['Ashen Eidolon', nan, 'Threnodies sound in au...  \n",
       "205474264                                 ['The Blind Hole']  \n",
       "205474266                                 ['The Blind Hole']  \n",
       "205474270                                 ['The Blind Hole']  \n",
       "205474272                                 ['The Blind Hole']  \n",
       "205474274                                 ['The Blind Hole']  \n",
       "205474276                                 ['The Blind Hole']  \n",
       "205474278                                 ['The Blind Hole']  "
      ]
     },
     "execution_count": 273,
     "metadata": {},
     "output_type": "execute_result"
    }
   ],
   "source": [
    "train[train[\"user_id\"]==2988053].merge(dataset.df_tracks, left_on=\"track_id\", right_index=True)"
   ]
  },
  {
   "cell_type": "code",
   "execution_count": 275,
   "id": "36acabe1",
   "metadata": {},
   "outputs": [],
   "source": [
    "df_test1 = pd.DataFrame(data=[2988053], columns=[\"user_id\"])"
   ]
  },
  {
   "cell_type": "code",
   "execution_count": 278,
   "id": "75ee227e",
   "metadata": {},
   "outputs": [
    {
     "name": "stdout",
     "output_type": "stream",
     "text": [
      "Loading user embeddings\n",
      "Loading tracks embeddings\n",
      "Computing cosine similarities\n",
      "Sorting similarities\n"
     ]
    },
    {
     "name": "stderr",
     "output_type": "stream",
     "text": [
      "100%|███████████████████████████████████████████████████████████████████████████████████████████████████████████████████████████████████████████████████████████████████████| 1/1 [00:00<00:00, 87.08it/s]"
     ]
    },
    {
     "name": "stdout",
     "output_type": "stream",
     "text": [
      "Overlaps report\n",
      "mean 0.3\n",
      "std 0.0\n",
      "max 0.3 min 0.3\n"
     ]
    },
    {
     "name": "stderr",
     "output_type": "stream",
     "text": [
      "\n"
     ]
    },
    {
     "data": {
      "text/html": [
       "<div>\n",
       "<style scoped>\n",
       "    .dataframe tbody tr th:only-of-type {\n",
       "        vertical-align: middle;\n",
       "    }\n",
       "\n",
       "    .dataframe tbody tr th {\n",
       "        vertical-align: top;\n",
       "    }\n",
       "\n",
       "    .dataframe thead th {\n",
       "        text-align: right;\n",
       "    }\n",
       "</style>\n",
       "<table border=\"1\" class=\"dataframe\">\n",
       "  <thead>\n",
       "    <tr style=\"text-align: right;\">\n",
       "      <th></th>\n",
       "      <th>0</th>\n",
       "      <th>1</th>\n",
       "      <th>2</th>\n",
       "      <th>3</th>\n",
       "      <th>4</th>\n",
       "      <th>5</th>\n",
       "      <th>6</th>\n",
       "      <th>7</th>\n",
       "      <th>8</th>\n",
       "      <th>9</th>\n",
       "      <th>...</th>\n",
       "      <th>90</th>\n",
       "      <th>91</th>\n",
       "      <th>92</th>\n",
       "      <th>93</th>\n",
       "      <th>94</th>\n",
       "      <th>95</th>\n",
       "      <th>96</th>\n",
       "      <th>97</th>\n",
       "      <th>98</th>\n",
       "      <th>99</th>\n",
       "    </tr>\n",
       "    <tr>\n",
       "      <th>user_id</th>\n",
       "      <th></th>\n",
       "      <th></th>\n",
       "      <th></th>\n",
       "      <th></th>\n",
       "      <th></th>\n",
       "      <th></th>\n",
       "      <th></th>\n",
       "      <th></th>\n",
       "      <th></th>\n",
       "      <th></th>\n",
       "      <th></th>\n",
       "      <th></th>\n",
       "      <th></th>\n",
       "      <th></th>\n",
       "      <th></th>\n",
       "      <th></th>\n",
       "      <th></th>\n",
       "      <th></th>\n",
       "      <th></th>\n",
       "      <th></th>\n",
       "      <th></th>\n",
       "    </tr>\n",
       "  </thead>\n",
       "  <tbody>\n",
       "    <tr>\n",
       "      <th>2988053</th>\n",
       "      <td>53470</td>\n",
       "      <td>277238</td>\n",
       "      <td>459979</td>\n",
       "      <td>279745</td>\n",
       "      <td>285451</td>\n",
       "      <td>76184</td>\n",
       "      <td>454638</td>\n",
       "      <td>66586</td>\n",
       "      <td>277163</td>\n",
       "      <td>748878</td>\n",
       "      <td>...</td>\n",
       "      <td>595909</td>\n",
       "      <td>72806</td>\n",
       "      <td>453713</td>\n",
       "      <td>650620</td>\n",
       "      <td>7303</td>\n",
       "      <td>71299</td>\n",
       "      <td>1089625</td>\n",
       "      <td>6918</td>\n",
       "      <td>49357</td>\n",
       "      <td>119410</td>\n",
       "    </tr>\n",
       "  </tbody>\n",
       "</table>\n",
       "<p>1 rows × 100 columns</p>\n",
       "</div>"
      ],
      "text/plain": [
       "             0       1       2       3       4      5       6      7       8  \\\n",
       "user_id                                                                        \n",
       "2988053  53470  277238  459979  279745  285451  76184  454638  66586  277163   \n",
       "\n",
       "              9  ...      90     91      92      93    94     95       96  \\\n",
       "user_id          ...                                                        \n",
       "2988053  748878  ...  595909  72806  453713  650620  7303  71299  1089625   \n",
       "\n",
       "           97     98      99  \n",
       "user_id                       \n",
       "2988053  6918  49357  119410  \n",
       "\n",
       "[1 rows x 100 columns]"
      ]
     },
     "execution_count": 278,
     "metadata": {},
     "output_type": "execute_result"
    }
   ],
   "source": [
    "model.predict(df_test1)"
   ]
  },
  {
   "cell_type": "code",
   "execution_count": 283,
   "id": "385f8f3c",
   "metadata": {},
   "outputs": [
    {
     "data": {
      "text/plain": [
       "array([  53470,  277238,  459979,  279745,  285451,   76184,  454638,\n",
       "         66586,  277163,  748878, 1519626, 1682695,  838416,  102343,\n",
       "        285454,  332795,  472116,   50152, 7980733,  254835,  562475,\n",
       "        478746,   44497,  968302,  127428,  746358,   70308,  273103,\n",
       "        277165,  222201,  649777,    9282,   44503,  649778,   74502,\n",
       "          6478,   62430,   74560,  259267,   70316,   54733,  375084,\n",
       "         44136,   20317, 1682699,   30856,  796176,   36793,   47836,\n",
       "        903665,  277277,   67812,   76891,  405290,  121769, 1452414,\n",
       "        140280,  277237,   47821,  277161, 1123352,  649779,  454150,\n",
       "        286644,  255334,   69419,   73474, 1451734,  466627,   54681,\n",
       "        467150,  738791,   70406,  455874,   44054,  282492,   16015,\n",
       "       3574088,  738844,  184567,  456496,  454738,  788616,  257289,\n",
       "        799456,  119353,  283306,  258112,  121833, 3574094,  595909,\n",
       "         72806,  453713,  650620,    7303,   71299, 1089625,    6918,\n",
       "         49357,  119410])"
      ]
     },
     "execution_count": 283,
     "metadata": {},
     "output_type": "execute_result"
    }
   ],
   "source": []
  },
  {
   "cell_type": "code",
   "execution_count": 284,
   "id": "c68a2db7",
   "metadata": {},
   "outputs": [
    {
     "data": {
      "text/html": [
       "<div>\n",
       "<style scoped>\n",
       "    .dataframe tbody tr th:only-of-type {\n",
       "        vertical-align: middle;\n",
       "    }\n",
       "\n",
       "    .dataframe tbody tr th {\n",
       "        vertical-align: top;\n",
       "    }\n",
       "\n",
       "    .dataframe thead th {\n",
       "        text-align: right;\n",
       "    }\n",
       "</style>\n",
       "<table border=\"1\" class=\"dataframe\">\n",
       "  <thead>\n",
       "    <tr style=\"text-align: right;\">\n",
       "      <th></th>\n",
       "      <th>track</th>\n",
       "      <th>artist_id</th>\n",
       "      <th>artist</th>\n",
       "      <th>albums_id</th>\n",
       "      <th>albums</th>\n",
       "    </tr>\n",
       "    <tr>\n",
       "      <th>track_id</th>\n",
       "      <th></th>\n",
       "      <th></th>\n",
       "      <th></th>\n",
       "      <th></th>\n",
       "      <th></th>\n",
       "    </tr>\n",
       "  </thead>\n",
       "  <tbody>\n",
       "    <tr>\n",
       "      <th>53470</th>\n",
       "      <td>Choke on It</td>\n",
       "      <td>169</td>\n",
       "      <td>Death</td>\n",
       "      <td>[12855, 366517, 1516575, 2904268, 6038864, 106...</td>\n",
       "      <td>['Leprosy', 'Leprosy (Remastered)', 'Leprosy [...</td>\n",
       "    </tr>\n",
       "    <tr>\n",
       "      <th>277238</th>\n",
       "      <td>Unfold</td>\n",
       "      <td>2285</td>\n",
       "      <td>Woods of Desolation</td>\n",
       "      <td>[94574]</td>\n",
       "      <td>['As The Stars']</td>\n",
       "    </tr>\n",
       "    <tr>\n",
       "      <th>459979</th>\n",
       "      <td>Tomb Of Insomnia</td>\n",
       "      <td>6395</td>\n",
       "      <td>Katatonia</td>\n",
       "      <td>[15744, 212188, 293776, 10302778]</td>\n",
       "      <td>['Dance Of December Souls', 'Dance Of December...</td>\n",
       "    </tr>\n",
       "    <tr>\n",
       "      <th>279745</th>\n",
       "      <td>Suffocation</td>\n",
       "      <td>9876</td>\n",
       "      <td>Morbid Angel</td>\n",
       "      <td>[87127, 290746, 750638, 3004962, 6560764, 8010...</td>\n",
       "      <td>['Altars of Madness', 'Altars Of Madness (Re R...</td>\n",
       "    </tr>\n",
       "    <tr>\n",
       "      <th>285451</th>\n",
       "      <td>Warhorn</td>\n",
       "      <td>3083</td>\n",
       "      <td>High on Fire</td>\n",
       "      <td>[95053, 6321440, 7721743]</td>\n",
       "      <td>['De Vermis Mysteriis', 'De Vermis Mysteriis (...</td>\n",
       "    </tr>\n",
       "    <tr>\n",
       "      <th>...</th>\n",
       "      <td>...</td>\n",
       "      <td>...</td>\n",
       "      <td>...</td>\n",
       "      <td>...</td>\n",
       "      <td>...</td>\n",
       "    </tr>\n",
       "    <tr>\n",
       "      <th>71299</th>\n",
       "      <td>King Of The Hornets</td>\n",
       "      <td>12071</td>\n",
       "      <td>Orange Goblin</td>\n",
       "      <td>[24890, 574961]</td>\n",
       "      <td>['The Big Black', 'Big Black']</td>\n",
       "    </tr>\n",
       "    <tr>\n",
       "      <th>1089625</th>\n",
       "      <td>No Servant</td>\n",
       "      <td>38830</td>\n",
       "      <td>Nails</td>\n",
       "      <td>[94512, 591968, 2058522]</td>\n",
       "      <td>['Unsilent Death', 'Unsilent Death (Final Mast...</td>\n",
       "    </tr>\n",
       "    <tr>\n",
       "      <th>6918</th>\n",
       "      <td>Buried By Time and Dust</td>\n",
       "      <td>476</td>\n",
       "      <td>Mayhem</td>\n",
       "      <td>[1389, 40362, 87800, 657775, 793148, 1899743, ...</td>\n",
       "      <td>['De Mysteriis Dom Sathanas', 'Live in Leipzig...</td>\n",
       "    </tr>\n",
       "    <tr>\n",
       "      <th>49357</th>\n",
       "      <td>Necromantical Screams</td>\n",
       "      <td>9539</td>\n",
       "      <td>Celtic Frost</td>\n",
       "      <td>[18270, 750819, 2647978]</td>\n",
       "      <td>['To Mega Therion', 'To Mega Therion (1999 Rei...</td>\n",
       "    </tr>\n",
       "    <tr>\n",
       "      <th>119410</th>\n",
       "      <td>The Burning Pits of the Duat</td>\n",
       "      <td>810</td>\n",
       "      <td>Nile</td>\n",
       "      <td>[17976]</td>\n",
       "      <td>['Annihilation of the Wicked']</td>\n",
       "    </tr>\n",
       "  </tbody>\n",
       "</table>\n",
       "<p>100 rows × 5 columns</p>\n",
       "</div>"
      ],
      "text/plain": [
       "                                 track  artist_id               artist  \\\n",
       "track_id                                                                 \n",
       "53470                      Choke on It        169                Death   \n",
       "277238                          Unfold       2285  Woods of Desolation   \n",
       "459979                Tomb Of Insomnia       6395            Katatonia   \n",
       "279745                     Suffocation       9876         Morbid Angel   \n",
       "285451                         Warhorn       3083         High on Fire   \n",
       "...                                ...        ...                  ...   \n",
       "71299              King Of The Hornets      12071        Orange Goblin   \n",
       "1089625                     No Servant      38830                Nails   \n",
       "6918           Buried By Time and Dust        476               Mayhem   \n",
       "49357            Necromantical Screams       9539         Celtic Frost   \n",
       "119410    The Burning Pits of the Duat        810                 Nile   \n",
       "\n",
       "                                                  albums_id  \\\n",
       "track_id                                                      \n",
       "53470     [12855, 366517, 1516575, 2904268, 6038864, 106...   \n",
       "277238                                              [94574]   \n",
       "459979                    [15744, 212188, 293776, 10302778]   \n",
       "279745    [87127, 290746, 750638, 3004962, 6560764, 8010...   \n",
       "285451                            [95053, 6321440, 7721743]   \n",
       "...                                                     ...   \n",
       "71299                                       [24890, 574961]   \n",
       "1089625                            [94512, 591968, 2058522]   \n",
       "6918      [1389, 40362, 87800, 657775, 793148, 1899743, ...   \n",
       "49357                              [18270, 750819, 2647978]   \n",
       "119410                                              [17976]   \n",
       "\n",
       "                                                     albums  \n",
       "track_id                                                     \n",
       "53470     ['Leprosy', 'Leprosy (Remastered)', 'Leprosy [...  \n",
       "277238                                     ['As The Stars']  \n",
       "459979    ['Dance Of December Souls', 'Dance Of December...  \n",
       "279745    ['Altars of Madness', 'Altars Of Madness (Re R...  \n",
       "285451    ['De Vermis Mysteriis', 'De Vermis Mysteriis (...  \n",
       "...                                                     ...  \n",
       "71299                        ['The Big Black', 'Big Black']  \n",
       "1089625   ['Unsilent Death', 'Unsilent Death (Final Mast...  \n",
       "6918      ['De Mysteriis Dom Sathanas', 'Live in Leipzig...  \n",
       "49357     ['To Mega Therion', 'To Mega Therion (1999 Rei...  \n",
       "119410                       ['Annihilation of the Wicked']  \n",
       "\n",
       "[100 rows x 5 columns]"
      ]
     },
     "execution_count": 284,
     "metadata": {},
     "output_type": "execute_result"
    }
   ],
   "source": [
    "df_tracks.loc[Out[278].values[0]]"
   ]
  },
  {
   "cell_type": "code",
   "execution_count": 288,
   "id": "aa44c42e",
   "metadata": {},
   "outputs": [
    {
     "data": {
      "text/plain": [
       "array([False, False, False, False, False, False, False, False, False,\n",
       "       False, False, False, False, False, False, False, False, False,\n",
       "       False, False, False, False, False, False, False, False, False,\n",
       "       False, False, False, False, False, False, False, False, False,\n",
       "       False, False, False, False, False, False, False, False, False,\n",
       "       False, False, False, False, False, False, False, False, False,\n",
       "       False, False, False, False, False, False, False, False, False,\n",
       "       False, False, False, False, False, False, False, False, False,\n",
       "       False, False, False, False, False, False, False, False, False,\n",
       "       False, False, False, False, False, False, False, False, False,\n",
       "       False, False, False, False, False, False, False, False, False,\n",
       "       False])"
      ]
     },
     "execution_count": 288,
     "metadata": {},
     "output_type": "execute_result"
    }
   ],
   "source": [
    "Out[278].values[0] == 91052"
   ]
  },
  {
   "cell_type": "code",
   "execution_count": 287,
   "id": "673e7d3e",
   "metadata": {},
   "outputs": [
    {
     "data": {
      "text/plain": [
       "track                  No Chain\n",
       "artist_id                 14804\n",
       "artist         Dead in the Dirt\n",
       "albums_id               [30918]\n",
       "albums       ['The Blind Hole']\n",
       "Name: 91052, dtype: object"
      ]
     },
     "execution_count": 287,
     "metadata": {},
     "output_type": "execute_result"
    }
   ],
   "source": [
    "2988053"
   ]
  },
  {
   "cell_type": "code",
   "execution_count": 286,
   "id": "53099cf3",
   "metadata": {},
   "outputs": [
    {
     "data": {
      "text/html": [
       "<div>\n",
       "<style scoped>\n",
       "    .dataframe tbody tr th:only-of-type {\n",
       "        vertical-align: middle;\n",
       "    }\n",
       "\n",
       "    .dataframe tbody tr th {\n",
       "        vertical-align: top;\n",
       "    }\n",
       "\n",
       "    .dataframe thead th {\n",
       "        text-align: right;\n",
       "    }\n",
       "</style>\n",
       "<table border=\"1\" class=\"dataframe\">\n",
       "  <thead>\n",
       "    <tr style=\"text-align: right;\">\n",
       "      <th></th>\n",
       "      <th>user_id</th>\n",
       "      <th>track_id</th>\n",
       "    </tr>\n",
       "  </thead>\n",
       "  <tbody>\n",
       "    <tr>\n",
       "      <th>205474268</th>\n",
       "      <td>2988053</td>\n",
       "      <td>91052</td>\n",
       "    </tr>\n",
       "  </tbody>\n",
       "</table>\n",
       "</div>"
      ],
      "text/plain": [
       "           user_id  track_id\n",
       "205474268  2988053     91052"
      ]
     },
     "execution_count": 286,
     "metadata": {},
     "output_type": "execute_result"
    }
   ],
   "source": [
    "test[test[\"user_id\"]==2988053]"
   ]
  },
  {
   "cell_type": "code",
   "execution_count": 54,
   "id": "e9de660a",
   "metadata": {},
   "outputs": [],
   "source": [
    "from sklearn.metrics.pairwise import cosine_similarity"
   ]
  },
  {
   "cell_type": "code",
   "execution_count": 57,
   "id": "4d811c43",
   "metadata": {},
   "outputs": [],
   "source": [
    "cos = cosine_similarity(mod.user_enc.mat.cpu().detach().numpy())"
   ]
  },
  {
   "cell_type": "code",
   "execution_count": 58,
   "id": "2e988eee",
   "metadata": {},
   "outputs": [],
   "source": [
    "import matplotlib.pyplot as plt"
   ]
  },
  {
   "cell_type": "code",
   "execution_count": 69,
   "id": "b7cca51d",
   "metadata": {},
   "outputs": [],
   "source": [
    "vals = cos[np.triu_indices(cos.shape[0], k=1)]"
   ]
  },
  {
   "cell_type": "code",
   "execution_count": 71,
   "id": "798893dc",
   "metadata": {
    "scrolled": true
   },
   "outputs": [
    {
     "data": {
      "text/plain": [
       "(array([3.000000e+00, 2.000000e+00, 3.000000e+00, 3.000000e+00,\n",
       "        1.000000e+00, 4.000000e+00, 7.000000e+00, 7.000000e+00,\n",
       "        1.300000e+01, 2.400000e+01, 2.500000e+01, 4.400000e+01,\n",
       "        6.700000e+01, 8.000000e+01, 1.240000e+02, 1.380000e+02,\n",
       "        2.130000e+02, 2.640000e+02, 3.190000e+02, 4.020000e+02,\n",
       "        5.240000e+02, 6.780000e+02, 8.460000e+02, 9.990000e+02,\n",
       "        1.222000e+03, 1.418000e+03, 1.736000e+03, 2.057000e+03,\n",
       "        2.556000e+03, 2.920000e+03, 3.542000e+03, 4.066000e+03,\n",
       "        4.783000e+03, 5.450000e+03, 6.238000e+03, 7.322000e+03,\n",
       "        8.306000e+03, 9.487000e+03, 1.056600e+04, 1.202600e+04,\n",
       "        1.352400e+04, 1.527200e+04, 1.714900e+04, 1.866300e+04,\n",
       "        2.083000e+04, 2.315900e+04, 2.554100e+04, 2.851900e+04,\n",
       "        3.138500e+04, 3.446800e+04, 3.784100e+04, 4.085800e+04,\n",
       "        4.448200e+04, 4.877300e+04, 5.276800e+04, 5.714800e+04,\n",
       "        6.193200e+04, 6.648900e+04, 7.196500e+04, 7.727000e+04,\n",
       "        8.291600e+04, 8.835500e+04, 9.490700e+04, 1.018060e+05,\n",
       "        1.086290e+05, 1.152440e+05, 1.231500e+05, 1.301140e+05,\n",
       "        1.383570e+05, 1.463660e+05, 1.550060e+05, 1.644760e+05,\n",
       "        1.743260e+05, 1.832320e+05, 1.928710e+05, 2.033780e+05,\n",
       "        2.142020e+05, 2.248810e+05, 2.361080e+05, 2.475590e+05,\n",
       "        2.594980e+05, 2.727910e+05, 2.840140e+05, 2.963080e+05,\n",
       "        3.089570e+05, 3.230930e+05, 3.352110e+05, 3.493250e+05,\n",
       "        3.654140e+05, 3.794160e+05, 3.940610e+05, 4.087550e+05,\n",
       "        4.228210e+05, 4.398240e+05, 4.555820e+05, 4.714850e+05,\n",
       "        4.877060e+05, 5.034070e+05, 5.219420e+05, 5.382670e+05,\n",
       "        5.541800e+05, 5.735940e+05, 5.899760e+05, 6.078570e+05,\n",
       "        6.248700e+05, 6.463580e+05, 6.632840e+05, 6.820390e+05,\n",
       "        7.008350e+05, 7.181260e+05, 7.375860e+05, 7.554410e+05,\n",
       "        7.776060e+05, 7.943070e+05, 8.149080e+05, 8.357900e+05,\n",
       "        8.527780e+05, 8.742320e+05, 8.940440e+05, 9.112370e+05,\n",
       "        9.325010e+05, 9.515560e+05, 9.716170e+05, 9.911960e+05,\n",
       "        1.010051e+06, 1.030883e+06, 1.049383e+06, 1.070375e+06,\n",
       "        1.091235e+06, 1.109819e+06, 1.129580e+06, 1.146783e+06,\n",
       "        1.166174e+06, 1.187066e+06, 1.206311e+06, 1.225659e+06,\n",
       "        1.244290e+06, 1.260791e+06, 1.281724e+06, 1.297366e+06,\n",
       "        1.317860e+06, 1.335832e+06, 1.353337e+06, 1.372530e+06,\n",
       "        1.391347e+06, 1.406156e+06, 1.424984e+06, 1.441133e+06,\n",
       "        1.456494e+06, 1.473363e+06, 1.491107e+06, 1.507684e+06,\n",
       "        1.521786e+06, 1.537595e+06, 1.555229e+06, 1.569867e+06,\n",
       "        1.584367e+06, 1.600257e+06, 1.614114e+06, 1.627018e+06,\n",
       "        1.642223e+06, 1.656447e+06, 1.668626e+06, 1.682507e+06,\n",
       "        1.694515e+06, 1.705996e+06, 1.721167e+06, 1.732729e+06,\n",
       "        1.741710e+06, 1.756603e+06, 1.766073e+06, 1.776976e+06,\n",
       "        1.787313e+06, 1.799611e+06, 1.810587e+06, 1.817562e+06,\n",
       "        1.826893e+06, 1.839537e+06, 1.843902e+06, 1.853111e+06,\n",
       "        1.861087e+06, 1.869835e+06, 1.875442e+06, 1.885614e+06,\n",
       "        1.892504e+06, 1.897436e+06, 1.903983e+06, 1.914620e+06,\n",
       "        1.918402e+06, 1.922972e+06, 1.928367e+06, 1.929454e+06,\n",
       "        1.937193e+06, 1.938281e+06, 1.941551e+06, 1.947546e+06,\n",
       "        1.952261e+06, 1.955604e+06, 1.958811e+06, 1.959601e+06,\n",
       "        1.964646e+06, 1.964192e+06, 1.964291e+06, 1.965293e+06,\n",
       "        1.969028e+06, 1.970800e+06, 1.970281e+06, 1.972369e+06,\n",
       "        1.970235e+06, 1.970137e+06, 1.970142e+06, 1.967554e+06,\n",
       "        1.967009e+06, 1.966468e+06, 1.961749e+06, 1.962053e+06,\n",
       "        1.959292e+06, 1.955971e+06, 1.956525e+06, 1.954760e+06,\n",
       "        1.951490e+06, 1.947348e+06, 1.945883e+06, 1.942302e+06,\n",
       "        1.937999e+06, 1.932640e+06, 1.930213e+06, 1.925292e+06,\n",
       "        1.920861e+06, 1.921033e+06, 1.913732e+06, 1.905906e+06,\n",
       "        1.902677e+06, 1.898956e+06, 1.892637e+06, 1.885965e+06,\n",
       "        1.884792e+06, 1.877809e+06, 1.868979e+06, 1.863552e+06,\n",
       "        1.856330e+06, 1.854414e+06, 1.846798e+06, 1.837641e+06,\n",
       "        1.833684e+06, 1.825201e+06, 1.819232e+06, 1.814653e+06,\n",
       "        1.806816e+06, 1.796528e+06, 1.790843e+06, 1.783769e+06,\n",
       "        1.779791e+06, 1.770668e+06, 1.762747e+06, 1.754619e+06,\n",
       "        1.749764e+06, 1.740421e+06, 1.732399e+06, 1.727124e+06,\n",
       "        1.719415e+06, 1.707554e+06, 1.701492e+06, 1.693720e+06,\n",
       "        1.685941e+06, 1.676354e+06, 1.672992e+06, 1.662392e+06,\n",
       "        1.653506e+06, 1.646789e+06, 1.638019e+06, 1.628792e+06,\n",
       "        1.622953e+06, 1.611593e+06, 1.604526e+06, 1.597131e+06,\n",
       "        1.590768e+06, 1.582480e+06, 1.574454e+06, 1.564855e+06,\n",
       "        1.556020e+06, 1.549479e+06, 1.538647e+06, 1.531201e+06,\n",
       "        1.523014e+06, 1.514146e+06, 1.505728e+06, 1.496844e+06,\n",
       "        1.487696e+06, 1.480107e+06, 1.472246e+06, 1.464532e+06,\n",
       "        1.456288e+06, 1.448148e+06, 1.438813e+06, 1.430306e+06,\n",
       "        1.420002e+06, 1.413726e+06, 1.402894e+06, 1.394824e+06,\n",
       "        1.386348e+06, 1.377606e+06, 1.369883e+06, 1.361312e+06,\n",
       "        1.352914e+06, 1.341619e+06, 1.333777e+06, 1.325772e+06,\n",
       "        1.318346e+06, 1.310113e+06, 1.300789e+06, 1.290821e+06,\n",
       "        1.284144e+06, 1.274292e+06, 1.263874e+06, 1.257525e+06,\n",
       "        1.248420e+06, 1.237214e+06, 1.231398e+06, 1.223654e+06,\n",
       "        1.215431e+06, 1.205731e+06, 1.195009e+06, 1.187043e+06,\n",
       "        1.178425e+06, 1.169916e+06, 1.161040e+06, 1.152435e+06,\n",
       "        1.144393e+06, 1.134007e+06, 1.127305e+06, 1.115397e+06,\n",
       "        1.107999e+06, 1.099586e+06, 1.091523e+06, 1.081984e+06,\n",
       "        1.072331e+06, 1.067802e+06, 1.055620e+06, 1.047050e+06,\n",
       "        1.039473e+06, 1.029970e+06, 1.020196e+06, 1.013077e+06,\n",
       "        1.002956e+06, 9.940250e+05, 9.858250e+05, 9.778580e+05,\n",
       "        9.683680e+05, 9.591910e+05, 9.498150e+05, 9.421750e+05,\n",
       "        9.337820e+05, 9.243620e+05, 9.163260e+05, 9.065000e+05,\n",
       "        8.974680e+05, 8.904210e+05, 8.803950e+05, 8.727060e+05,\n",
       "        8.613350e+05, 8.561320e+05, 8.443620e+05, 8.355470e+05,\n",
       "        8.258740e+05, 8.186980e+05, 8.091260e+05, 8.015000e+05,\n",
       "        7.915750e+05, 7.832240e+05, 7.740600e+05, 7.658350e+05,\n",
       "        7.571800e+05, 7.483050e+05, 7.374110e+05, 7.315320e+05,\n",
       "        7.213350e+05, 7.118920e+05, 7.036040e+05, 6.958100e+05,\n",
       "        6.851950e+05, 6.783400e+05, 6.686930e+05, 6.611240e+05,\n",
       "        6.519750e+05, 6.432530e+05, 6.350050e+05, 6.247320e+05,\n",
       "        6.170080e+05, 6.079480e+05, 5.993320e+05, 5.902510e+05,\n",
       "        5.821530e+05, 5.749230e+05, 5.637200e+05, 5.559910e+05,\n",
       "        5.465970e+05, 5.382320e+05, 5.297170e+05, 5.213650e+05,\n",
       "        5.132950e+05, 5.042340e+05, 4.962960e+05, 4.855840e+05,\n",
       "        4.778330e+05, 4.702600e+05, 4.613340e+05, 4.532930e+05,\n",
       "        4.437030e+05, 4.370370e+05, 4.287050e+05, 4.189820e+05,\n",
       "        4.107260e+05, 4.033600e+05, 3.950060e+05, 3.872750e+05,\n",
       "        3.785410e+05, 3.709800e+05, 3.625010e+05, 3.534200e+05,\n",
       "        3.450190e+05, 3.383790e+05, 3.301500e+05, 3.222650e+05,\n",
       "        3.141440e+05, 3.069230e+05, 2.992560e+05, 2.908040e+05,\n",
       "        2.838690e+05, 2.756300e+05, 2.687560e+05, 2.616020e+05,\n",
       "        2.544960e+05, 2.463010e+05, 2.395370e+05, 2.321770e+05,\n",
       "        2.243650e+05, 2.163260e+05, 2.105420e+05, 2.029850e+05,\n",
       "        1.968210e+05, 1.897230e+05, 1.822840e+05, 1.768220e+05,\n",
       "        1.703750e+05, 1.636390e+05, 1.568530e+05, 1.510640e+05,\n",
       "        1.441670e+05, 1.389310e+05, 1.326390e+05, 1.264370e+05,\n",
       "        1.214720e+05, 1.149010e+05, 1.098400e+05, 1.042280e+05,\n",
       "        9.847300e+04, 9.384100e+04, 8.852000e+04, 8.401600e+04,\n",
       "        7.909400e+04, 7.452800e+04, 6.915500e+04, 6.566200e+04,\n",
       "        6.074200e+04, 5.644100e+04, 5.276000e+04, 4.913200e+04,\n",
       "        4.565300e+04, 4.133100e+04, 3.859700e+04, 3.495700e+04,\n",
       "        3.168200e+04, 2.911500e+04, 2.605800e+04, 2.362600e+04,\n",
       "        2.103500e+04, 1.863400e+04, 1.655700e+04, 1.449600e+04,\n",
       "        1.252500e+04, 1.080900e+04, 9.220000e+03, 7.937000e+03,\n",
       "        6.472000e+03, 5.333000e+03, 4.213000e+03, 3.417000e+03,\n",
       "        2.767000e+03, 2.124000e+03, 1.508000e+03, 1.078000e+03,\n",
       "        7.360000e+02, 5.520000e+02, 3.350000e+02, 2.090000e+02,\n",
       "        1.430000e+02, 4.400000e+01, 2.100000e+01, 6.000000e+00]),\n",
       " array([-0.9135599 , -0.90977556, -0.90599126, -0.9022069 , -0.8984226 ,\n",
       "        -0.89463824, -0.89085394, -0.8870696 , -0.8832853 , -0.8795009 ,\n",
       "        -0.8757166 , -0.87193227, -0.86814797, -0.8643636 , -0.8605793 ,\n",
       "        -0.85679495, -0.85301065, -0.8492263 , -0.845442  , -0.84165764,\n",
       "        -0.83787334, -0.834089  , -0.8303047 , -0.8265203 , -0.822736  ,\n",
       "        -0.81895167, -0.8151673 , -0.811383  , -0.80759865, -0.80381435,\n",
       "        -0.80003   , -0.7962457 , -0.79246134, -0.78867704, -0.7848927 ,\n",
       "        -0.7811084 , -0.777324  , -0.7735397 , -0.76975536, -0.76597106,\n",
       "        -0.7621867 , -0.7584024 , -0.75461805, -0.75083375, -0.7470494 ,\n",
       "        -0.7432651 , -0.73948073, -0.73569643, -0.7319121 , -0.7281278 ,\n",
       "        -0.7243434 , -0.72055906, -0.71677476, -0.7129904 , -0.7092061 ,\n",
       "        -0.70542175, -0.70163745, -0.6978531 , -0.6940688 , -0.69028443,\n",
       "        -0.68650013, -0.6827158 , -0.6789315 , -0.6751471 , -0.6713628 ,\n",
       "        -0.66757846, -0.66379416, -0.6600098 , -0.6562255 , -0.65244114,\n",
       "        -0.64865685, -0.6448725 , -0.6410882 , -0.6373038 , -0.63351953,\n",
       "        -0.6297352 , -0.6259508 , -0.6221665 , -0.61838216, -0.61459786,\n",
       "        -0.6108135 , -0.6070292 , -0.60324484, -0.59946054, -0.5956762 ,\n",
       "        -0.5918919 , -0.5881075 , -0.5843232 , -0.58053887, -0.57675457,\n",
       "        -0.5729702 , -0.5691859 , -0.56540155, -0.56161726, -0.5578329 ,\n",
       "        -0.5540486 , -0.55026424, -0.54647994, -0.5426956 , -0.5389113 ,\n",
       "        -0.5351269 , -0.53134257, -0.52755827, -0.5237739 , -0.5199896 ,\n",
       "        -0.51620525, -0.51242095, -0.5086366 , -0.5048523 , -0.50106794,\n",
       "        -0.49728364, -0.4934993 , -0.48971498, -0.48593062, -0.4821463 ,\n",
       "        -0.47836196, -0.47457764, -0.4707933 , -0.46700898, -0.46322465,\n",
       "        -0.45944032, -0.455656  , -0.45187166, -0.44808733, -0.444303  ,\n",
       "        -0.44051868, -0.43673435, -0.43295002, -0.4291657 , -0.42538136,\n",
       "        -0.42159703, -0.4178127 , -0.41402838, -0.41024405, -0.40645972,\n",
       "        -0.4026754 , -0.39889106, -0.39510673, -0.39132237, -0.38753805,\n",
       "        -0.38375372, -0.3799694 , -0.37618506, -0.37240073, -0.3686164 ,\n",
       "        -0.36483207, -0.36104774, -0.35726342, -0.3534791 , -0.34969476,\n",
       "        -0.34591043, -0.3421261 , -0.33834177, -0.33455744, -0.33077312,\n",
       "        -0.3269888 , -0.32320446, -0.31942013, -0.3156358 , -0.31185147,\n",
       "        -0.30806714, -0.3042828 , -0.3004985 , -0.29671413, -0.2929298 ,\n",
       "        -0.28914547, -0.28536114, -0.2815768 , -0.27779248, -0.27400815,\n",
       "        -0.27022383, -0.2664395 , -0.26265517, -0.25887084, -0.2550865 ,\n",
       "        -0.25130218, -0.24751785, -0.24373353, -0.2399492 , -0.23616487,\n",
       "        -0.23238054, -0.22859621, -0.22481187, -0.22102754, -0.21724321,\n",
       "        -0.21345888, -0.20967455, -0.20589022, -0.2021059 , -0.19832157,\n",
       "        -0.19453724, -0.19075291, -0.18696858, -0.18318425, -0.17939991,\n",
       "        -0.17561558, -0.17183125, -0.16804692, -0.1642626 , -0.16047826,\n",
       "        -0.15669394, -0.1529096 , -0.14912528, -0.14534095, -0.14155662,\n",
       "        -0.13777229, -0.13398796, -0.13020362, -0.12641929, -0.12263497,\n",
       "        -0.11885063, -0.1150663 , -0.11128198, -0.10749765, -0.10371332,\n",
       "        -0.09992899, -0.09614465, -0.09236033, -0.088576  , -0.08479167,\n",
       "        -0.08100734, -0.07722301, -0.07343867, -0.06965435, -0.06587002,\n",
       "        -0.06208569, -0.05830136, -0.05451703, -0.0507327 , -0.04694837,\n",
       "        -0.04316404, -0.03937971, -0.03559538, -0.03181105, -0.02802672,\n",
       "        -0.02424239, -0.02045806, -0.01667373, -0.0128894 , -0.00910507,\n",
       "        -0.00532074, -0.00153641,  0.00224792,  0.00603225,  0.00981658,\n",
       "         0.01360091,  0.01738524,  0.02116957,  0.0249539 ,  0.02873823,\n",
       "         0.03252256,  0.03630689,  0.04009122,  0.04387555,  0.04765988,\n",
       "         0.05144421,  0.05522854,  0.05901287,  0.0627972 ,  0.06658152,\n",
       "         0.07036586,  0.07415019,  0.07793452,  0.08171885,  0.08550318,\n",
       "         0.0892875 ,  0.09307184,  0.09685617,  0.1006405 ,  0.10442483,\n",
       "         0.10820916,  0.11199348,  0.11577782,  0.11956215,  0.12334648,\n",
       "         0.1271308 ,  0.13091514,  0.13469946,  0.13848379,  0.14226812,\n",
       "         0.14605245,  0.14983678,  0.15362112,  0.15740545,  0.16118978,\n",
       "         0.16497411,  0.16875844,  0.17254277,  0.1763271 ,  0.18011142,\n",
       "         0.18389575,  0.18768008,  0.19146441,  0.19524874,  0.19903308,\n",
       "         0.20281741,  0.20660174,  0.21038607,  0.2141704 ,  0.21795473,\n",
       "         0.22173905,  0.22552338,  0.22930771,  0.23309204,  0.23687637,\n",
       "         0.2406607 ,  0.24444503,  0.24822937,  0.25201368,  0.255798  ,\n",
       "         0.25958234,  0.26336667,  0.267151  ,  0.27093536,  0.2747197 ,\n",
       "         0.278504  ,  0.28228834,  0.28607267,  0.289857  ,  0.29364133,\n",
       "         0.29742566,  0.30121   ,  0.30499431,  0.30877864,  0.31256297,\n",
       "         0.3163473 ,  0.32013163,  0.32391596,  0.3277003 ,  0.33148462,\n",
       "         0.33526894,  0.33905327,  0.3428376 ,  0.34662193,  0.35040626,\n",
       "         0.3541906 ,  0.35797492,  0.36175925,  0.3655436 ,  0.36932793,\n",
       "         0.37311226,  0.3768966 ,  0.38068092,  0.38446525,  0.38824958,\n",
       "         0.3920339 ,  0.39581823,  0.39960256,  0.4033869 ,  0.40717122,\n",
       "         0.41095555,  0.41473988,  0.4185242 ,  0.42230853,  0.42609286,\n",
       "         0.4298772 ,  0.43366152,  0.43744585,  0.44123018,  0.4450145 ,\n",
       "         0.44879884,  0.45258316,  0.4563675 ,  0.46015185,  0.46393618,\n",
       "         0.4677205 ,  0.47150484,  0.47528917,  0.4790735 ,  0.48285782,\n",
       "         0.48664215,  0.49042648,  0.4942108 ,  0.49799514,  0.50177944,\n",
       "         0.5055638 ,  0.50934815,  0.51313245,  0.5169168 ,  0.5207011 ,\n",
       "         0.52448547,  0.52826977,  0.5320541 ,  0.5358384 ,  0.5396228 ,\n",
       "         0.5434071 ,  0.54719144,  0.55097574,  0.5547601 ,  0.5585444 ,\n",
       "         0.56232876,  0.56611305,  0.5698974 ,  0.5736817 ,  0.5774661 ,\n",
       "         0.58125037,  0.5850347 ,  0.588819  ,  0.5926034 ,  0.5963877 ,\n",
       "         0.60017204,  0.6039564 ,  0.6077407 ,  0.61152506,  0.61530936,\n",
       "         0.6190937 ,  0.622878  ,  0.6266624 ,  0.6304467 ,  0.63423103,\n",
       "         0.63801533,  0.6417997 ,  0.645584  ,  0.64936835,  0.65315264,\n",
       "         0.656937  ,  0.6607213 ,  0.66450566,  0.66828996,  0.6720743 ,\n",
       "         0.6758586 ,  0.679643  ,  0.6834273 ,  0.68721163,  0.69099593,\n",
       "         0.6947803 ,  0.69856465,  0.70234895,  0.7061333 ,  0.7099176 ,\n",
       "         0.71370196,  0.71748626,  0.7212706 ,  0.7250549 ,  0.7288393 ,\n",
       "         0.7326236 ,  0.73640794,  0.74019223,  0.7439766 ,  0.7477609 ,\n",
       "         0.75154525,  0.75532955,  0.7591139 ,  0.7628982 ,  0.76668257,\n",
       "         0.77046686,  0.7742512 ,  0.7780355 ,  0.7818199 ,  0.7856042 ,\n",
       "         0.78938854,  0.7931729 ,  0.7969572 ,  0.80074155,  0.80452585,\n",
       "         0.8083102 ,  0.8120945 ,  0.81587887,  0.81966317,  0.8234475 ,\n",
       "         0.8272318 ,  0.8310162 ,  0.8348005 ,  0.83858484,  0.84236914,\n",
       "         0.8461535 ,  0.8499378 ,  0.85372216,  0.85750645,  0.8612908 ,\n",
       "         0.8650751 ,  0.86885947,  0.87264377,  0.8764281 ,  0.8802124 ,\n",
       "         0.8839968 ,  0.88778114,  0.89156544,  0.8953498 ,  0.8991341 ,\n",
       "         0.90291846,  0.90670276,  0.9104871 ,  0.9142714 ,  0.9180558 ,\n",
       "         0.9218401 ,  0.92562443,  0.9294087 ,  0.9331931 ,  0.9369774 ,\n",
       "         0.94076174,  0.94454604,  0.9483304 ,  0.9521147 ,  0.95589906,\n",
       "         0.95968336,  0.9634677 ,  0.967252  ,  0.9710364 ,  0.9748207 ,\n",
       "         0.97860503], dtype=float32),\n",
       " <BarContainer object of 500 artists>)"
      ]
     },
     "execution_count": 71,
     "metadata": {},
     "output_type": "execute_result"
    },
    {
     "data": {
      "image/png": "[encoded data removed]",
      "text/plain": [
       "<Figure size 640x480 with 1 Axes>"
      ]
     },
     "metadata": {},
     "output_type": "display_data"
    }
   ],
   "source": [
    "plt.hist(vals, bins=500)"
   ]
  },
  {
   "cell_type": "code",
   "execution_count": 77,
   "id": "29bebe9a",
   "metadata": {
    "collapsed": true
   },
   "outputs": [
    {
     "data": {
      "text/html": [
       "<div>\n",
       "<style scoped>\n",
       "    .dataframe tbody tr th:only-of-type {\n",
       "        vertical-align: middle;\n",
       "    }\n",
       "\n",
       "    .dataframe tbody tr th {\n",
       "        vertical-align: top;\n",
       "    }\n",
       "\n",
       "    .dataframe thead th {\n",
       "        text-align: right;\n",
       "    }\n",
       "</style>\n",
       "<table border=\"1\" class=\"dataframe\">\n",
       "  <thead>\n",
       "    <tr style=\"text-align: right;\">\n",
       "      <th></th>\n",
       "      <th>track</th>\n",
       "      <th>artist_id</th>\n",
       "      <th>artist</th>\n",
       "      <th>albums_id</th>\n",
       "      <th>albums</th>\n",
       "    </tr>\n",
       "    <tr>\n",
       "      <th>track_id</th>\n",
       "      <th></th>\n",
       "      <th></th>\n",
       "      <th></th>\n",
       "      <th></th>\n",
       "      <th></th>\n",
       "    </tr>\n",
       "  </thead>\n",
       "  <tbody>\n",
       "    <tr>\n",
       "      <th>6787</th>\n",
       "      <td>It's Time</td>\n",
       "      <td>872</td>\n",
       "      <td>Imagine Dragons</td>\n",
       "      <td>[2231, 5737, 8418, 151773, 159195, 159196, 162...</td>\n",
       "      <td>['Night Visions (Deluxe Version)', 'Night Visi...</td>\n",
       "    </tr>\n",
       "    <tr>\n",
       "      <th>6907</th>\n",
       "      <td>Amsterdam</td>\n",
       "      <td>872</td>\n",
       "      <td>Imagine Dragons</td>\n",
       "      <td>[2231, 5737, 8786, 218016, 259737, 477292, 526...</td>\n",
       "      <td>['Night Visions (Deluxe Version)', 'Night Visi...</td>\n",
       "    </tr>\n",
       "    <tr>\n",
       "      <th>6911</th>\n",
       "      <td>My Fault</td>\n",
       "      <td>872</td>\n",
       "      <td>Imagine Dragons</td>\n",
       "      <td>[2231, 5737, 8418, 159195, 259737, 477292, 526...</td>\n",
       "      <td>['Night Visions (Deluxe Version)', 'Night Visi...</td>\n",
       "    </tr>\n",
       "    <tr>\n",
       "      <th>6912</th>\n",
       "      <td>America</td>\n",
       "      <td>872</td>\n",
       "      <td>Imagine Dragons</td>\n",
       "      <td>[2231, 5737, 218016, 259737, 477292, 526516, 2...</td>\n",
       "      <td>['Night Visions (Deluxe Version)', 'Night Visi...</td>\n",
       "    </tr>\n",
       "    <tr>\n",
       "      <th>6914</th>\n",
       "      <td>Underdog</td>\n",
       "      <td>872</td>\n",
       "      <td>Imagine Dragons</td>\n",
       "      <td>[2231, 5737, 259737, 477292, 526516, 1377213]</td>\n",
       "      <td>['Night Visions (Deluxe Version)', 'Night Visi...</td>\n",
       "    </tr>\n",
       "    <tr>\n",
       "      <th>...</th>\n",
       "      <td>...</td>\n",
       "      <td>...</td>\n",
       "      <td>...</td>\n",
       "      <td>...</td>\n",
       "      <td>...</td>\n",
       "    </tr>\n",
       "    <tr>\n",
       "      <th>29449480</th>\n",
       "      <td>Radioactive</td>\n",
       "      <td>872</td>\n",
       "      <td>Imagine Dragons</td>\n",
       "      <td>[5737, 8418, 159195, 159196, 263659, 583744, 9...</td>\n",
       "      <td>['Night Visions', 'Continued Silence EP', 'Con...</td>\n",
       "    </tr>\n",
       "    <tr>\n",
       "      <th>29450270</th>\n",
       "      <td>It's Time</td>\n",
       "      <td>872</td>\n",
       "      <td>Imagine Dragons</td>\n",
       "      <td>[5737, 8418, 151773, 159195, 159196, 353024, 4...</td>\n",
       "      <td>['Night Visions', 'Continued Silence EP', 'Con...</td>\n",
       "    </tr>\n",
       "    <tr>\n",
       "      <th>29669345</th>\n",
       "      <td>Radioactive</td>\n",
       "      <td>872</td>\n",
       "      <td>Imagine Dragons</td>\n",
       "      <td>[5737, 8418, 8786, 151773, 159195, 159196, 263...</td>\n",
       "      <td>['Night Visions', 'Continued Silence EP', 'Hea...</td>\n",
       "    </tr>\n",
       "    <tr>\n",
       "      <th>29835490</th>\n",
       "      <td>Demons</td>\n",
       "      <td>872</td>\n",
       "      <td>Imagine Dragons</td>\n",
       "      <td>[5737, 8418, 151773, 159195, 159196, 477292, 5...</td>\n",
       "      <td>['Night Visions', 'Continued Silence EP', 'Con...</td>\n",
       "    </tr>\n",
       "    <tr>\n",
       "      <th>30526680</th>\n",
       "      <td>On Top of the World</td>\n",
       "      <td>872</td>\n",
       "      <td>Imagine Dragons</td>\n",
       "      <td>[5737, 8418, 151773, 159196, 477292, 526516, 5...</td>\n",
       "      <td>['Night Visions', 'Continued Silence EP', 'Con...</td>\n",
       "    </tr>\n",
       "  </tbody>\n",
       "</table>\n",
       "<p>116 rows × 5 columns</p>\n",
       "</div>"
      ],
      "text/plain": [
       "                        track  artist_id           artist  \\\n",
       "track_id                                                    \n",
       "6787                It's Time        872  Imagine Dragons   \n",
       "6907                Amsterdam        872  Imagine Dragons   \n",
       "6911                 My Fault        872  Imagine Dragons   \n",
       "6912                  America        872  Imagine Dragons   \n",
       "6914                 Underdog        872  Imagine Dragons   \n",
       "...                       ...        ...              ...   \n",
       "29449480          Radioactive        872  Imagine Dragons   \n",
       "29450270            It's Time        872  Imagine Dragons   \n",
       "29669345          Radioactive        872  Imagine Dragons   \n",
       "29835490               Demons        872  Imagine Dragons   \n",
       "30526680  On Top of the World        872  Imagine Dragons   \n",
       "\n",
       "                                                  albums_id  \\\n",
       "track_id                                                      \n",
       "6787      [2231, 5737, 8418, 151773, 159195, 159196, 162...   \n",
       "6907      [2231, 5737, 8786, 218016, 259737, 477292, 526...   \n",
       "6911      [2231, 5737, 8418, 159195, 259737, 477292, 526...   \n",
       "6912      [2231, 5737, 218016, 259737, 477292, 526516, 2...   \n",
       "6914          [2231, 5737, 259737, 477292, 526516, 1377213]   \n",
       "...                                                     ...   \n",
       "29449480  [5737, 8418, 159195, 159196, 263659, 583744, 9...   \n",
       "29450270  [5737, 8418, 151773, 159195, 159196, 353024, 4...   \n",
       "29669345  [5737, 8418, 8786, 151773, 159195, 159196, 263...   \n",
       "29835490  [5737, 8418, 151773, 159195, 159196, 477292, 5...   \n",
       "30526680  [5737, 8418, 151773, 159196, 477292, 526516, 5...   \n",
       "\n",
       "                                                     albums  \n",
       "track_id                                                     \n",
       "6787      ['Night Visions (Deluxe Version)', 'Night Visi...  \n",
       "6907      ['Night Visions (Deluxe Version)', 'Night Visi...  \n",
       "6911      ['Night Visions (Deluxe Version)', 'Night Visi...  \n",
       "6912      ['Night Visions (Deluxe Version)', 'Night Visi...  \n",
       "6914      ['Night Visions (Deluxe Version)', 'Night Visi...  \n",
       "...                                                     ...  \n",
       "29449480  ['Night Visions', 'Continued Silence EP', 'Con...  \n",
       "29450270  ['Night Visions', 'Continued Silence EP', 'Con...  \n",
       "29669345  ['Night Visions', 'Continued Silence EP', 'Hea...  \n",
       "29835490  ['Night Visions', 'Continued Silence EP', 'Con...  \n",
       "30526680  ['Night Visions', 'Continued Silence EP', 'Con...  \n",
       "\n",
       "[116 rows x 5 columns]"
      ]
     },
     "execution_count": 77,
     "metadata": {},
     "output_type": "execute_result"
    }
   ],
   "source": [
    "dataset.df_tracks[dataset.df_tracks[\"artist\"]==\"Imagine Dragons\"]"
   ]
  },
  {
   "cell_type": "code",
   "execution_count": 289,
   "id": "25e7e032",
   "metadata": {},
   "outputs": [
    {
     "data": {
      "text/plain": [
       "31244"
      ]
     },
     "execution_count": 289,
     "metadata": {},
     "output_type": "execute_result"
    }
   ],
   "source": [
    "model.track_map[53470]"
   ]
  },
  {
   "cell_type": "code",
   "execution_count": 290,
   "id": "4b0ecc7d",
   "metadata": {},
   "outputs": [
    {
     "data": {
      "text/plain": [
       "torch.Size([1, 256])"
      ]
     },
     "execution_count": 290,
     "metadata": {},
     "output_type": "execute_result"
    }
   ],
   "source": [
    "mod.track_enc.mat[model.track_map[53470]].reshape(1,-1).shape"
   ]
  },
  {
   "cell_type": "code",
   "execution_count": 291,
   "id": "c0d543c1",
   "metadata": {},
   "outputs": [],
   "source": [
    "dists = cosine_similarity(mod.track_enc.mat[model.track_map[53470]].reshape(1,-1).cpu().detach().numpy(), mod.track_enc.mat.cpu().detach().numpy())"
   ]
  },
  {
   "cell_type": "code",
   "execution_count": 292,
   "id": "3f73d15b",
   "metadata": {},
   "outputs": [
    {
     "data": {
      "text/plain": [
       "array([199433,   6786, 152404, ..., 184206, 141070,  31244])"
      ]
     },
     "execution_count": 292,
     "metadata": {},
     "output_type": "execute_result"
    }
   ],
   "source": [
    "dists[0].argsort()"
   ]
  },
  {
   "cell_type": "code",
   "execution_count": 294,
   "id": "5e03c88f",
   "metadata": {},
   "outputs": [
    {
     "data": {
      "text/plain": [
       "track                                               Spiralling\n",
       "artist_id                                                  190\n",
       "artist                                                   Keane\n",
       "albums_id    [3704, 68140, 177945, 204818, 220256, 288139, ...\n",
       "albums       ['Greatest hits', 'Perfect Symmetry', 'Live Re...\n",
       "Name: 10811, dtype: object"
      ]
     },
     "execution_count": 294,
     "metadata": {},
     "output_type": "execute_result"
    }
   ],
   "source": [
    "dataset.df_tracks.loc[model.rev_track_map[6786]]"
   ]
  },
  {
   "cell_type": "code",
   "execution_count": 127,
   "id": "65364d91",
   "metadata": {},
   "outputs": [
    {
     "data": {
      "text/html": [
       "<div>\n",
       "<style scoped>\n",
       "    .dataframe tbody tr th:only-of-type {\n",
       "        vertical-align: middle;\n",
       "    }\n",
       "\n",
       "    .dataframe tbody tr th {\n",
       "        vertical-align: top;\n",
       "    }\n",
       "\n",
       "    .dataframe thead th {\n",
       "        text-align: right;\n",
       "    }\n",
       "</style>\n",
       "<table border=\"1\" class=\"dataframe\">\n",
       "  <thead>\n",
       "    <tr style=\"text-align: right;\">\n",
       "      <th></th>\n",
       "      <th>user_id</th>\n",
       "      <th>artist_id</th>\n",
       "      <th>album_id</th>\n",
       "      <th>track_id</th>\n",
       "      <th>timestamp</th>\n",
       "      <th>user_track_count</th>\n",
       "    </tr>\n",
       "  </thead>\n",
       "  <tbody>\n",
       "    <tr>\n",
       "      <th>955236005</th>\n",
       "      <td>5666019</td>\n",
       "      <td>872</td>\n",
       "      <td>8418</td>\n",
       "      <td>29669345</td>\n",
       "      <td>1333550886</td>\n",
       "      <td>4</td>\n",
       "    </tr>\n",
       "    <tr>\n",
       "      <th>955828743</th>\n",
       "      <td>49519844</td>\n",
       "      <td>872</td>\n",
       "      <td>5737</td>\n",
       "      <td>29669345</td>\n",
       "      <td>1396714194</td>\n",
       "      <td>1</td>\n",
       "    </tr>\n",
       "    <tr>\n",
       "      <th>956070318</th>\n",
       "      <td>45738212</td>\n",
       "      <td>872</td>\n",
       "      <td>5737</td>\n",
       "      <td>29669345</td>\n",
       "      <td>1384816044</td>\n",
       "      <td>1</td>\n",
       "    </tr>\n",
       "    <tr>\n",
       "      <th>956692883</th>\n",
       "      <td>42832113</td>\n",
       "      <td>872</td>\n",
       "      <td>5737</td>\n",
       "      <td>29669345</td>\n",
       "      <td>1389655926</td>\n",
       "      <td>4</td>\n",
       "    </tr>\n",
       "    <tr>\n",
       "      <th>957084447</th>\n",
       "      <td>48743011</td>\n",
       "      <td>872</td>\n",
       "      <td>1849869</td>\n",
       "      <td>29669345</td>\n",
       "      <td>1403256345</td>\n",
       "      <td>1</td>\n",
       "    </tr>\n",
       "    <tr>\n",
       "      <th>...</th>\n",
       "      <td>...</td>\n",
       "      <td>...</td>\n",
       "      <td>...</td>\n",
       "      <td>...</td>\n",
       "      <td>...</td>\n",
       "      <td>...</td>\n",
       "    </tr>\n",
       "    <tr>\n",
       "      <th>1052517734</th>\n",
       "      <td>49180879</td>\n",
       "      <td>872</td>\n",
       "      <td>8418</td>\n",
       "      <td>29669345</td>\n",
       "      <td>1368974880</td>\n",
       "      <td>2</td>\n",
       "    </tr>\n",
       "    <tr>\n",
       "      <th>1052667168</th>\n",
       "      <td>49562722</td>\n",
       "      <td>872</td>\n",
       "      <td>5737</td>\n",
       "      <td>29669345</td>\n",
       "      <td>1378748242</td>\n",
       "      <td>1</td>\n",
       "    </tr>\n",
       "    <tr>\n",
       "      <th>1052679380</th>\n",
       "      <td>50075389</td>\n",
       "      <td>872</td>\n",
       "      <td>5737</td>\n",
       "      <td>29669345</td>\n",
       "      <td>1391557589</td>\n",
       "      <td>1</td>\n",
       "    </tr>\n",
       "    <tr>\n",
       "      <th>1052738423</th>\n",
       "      <td>49817650</td>\n",
       "      <td>872</td>\n",
       "      <td>5737</td>\n",
       "      <td>29669345</td>\n",
       "      <td>1396098733</td>\n",
       "      <td>1</td>\n",
       "    </tr>\n",
       "    <tr>\n",
       "      <th>1052789505</th>\n",
       "      <td>49689249</td>\n",
       "      <td>872</td>\n",
       "      <td>1849869</td>\n",
       "      <td>29669345</td>\n",
       "      <td>1367165918</td>\n",
       "      <td>2</td>\n",
       "    </tr>\n",
       "  </tbody>\n",
       "</table>\n",
       "<p>619 rows × 6 columns</p>\n",
       "</div>"
      ],
      "text/plain": [
       "             user_id  artist_id  album_id  track_id   timestamp  \\\n",
       "955236005    5666019        872      8418  29669345  1333550886   \n",
       "955828743   49519844        872      5737  29669345  1396714194   \n",
       "956070318   45738212        872      5737  29669345  1384816044   \n",
       "956692883   42832113        872      5737  29669345  1389655926   \n",
       "957084447   48743011        872   1849869  29669345  1403256345   \n",
       "...              ...        ...       ...       ...         ...   \n",
       "1052517734  49180879        872      8418  29669345  1368974880   \n",
       "1052667168  49562722        872      5737  29669345  1378748242   \n",
       "1052679380  50075389        872      5737  29669345  1391557589   \n",
       "1052738423  49817650        872      5737  29669345  1396098733   \n",
       "1052789505  49689249        872   1849869  29669345  1367165918   \n",
       "\n",
       "            user_track_count  \n",
       "955236005                  4  \n",
       "955828743                  1  \n",
       "956070318                  1  \n",
       "956692883                  4  \n",
       "957084447                  1  \n",
       "...                      ...  \n",
       "1052517734                 2  \n",
       "1052667168                 1  \n",
       "1052679380                 1  \n",
       "1052738423                 1  \n",
       "1052789505                 2  \n",
       "\n",
       "[619 rows x 6 columns]"
      ]
     },
     "execution_count": 127,
     "metadata": {},
     "output_type": "execute_result"
    }
   ],
   "source": [
    "train[train[\"track_id\"]==29449480]"
   ]
  },
  {
   "cell_type": "code",
   "execution_count": 193,
   "id": "bb5f8f60",
   "metadata": {},
   "outputs": [],
   "source": [
    "gb = dataset.df_tracks.groupby([\"artist\", \"track\"]).size() "
   ]
  },
  {
   "cell_type": "code",
   "execution_count": 194,
   "id": "21d6fb41",
   "metadata": {},
   "outputs": [
    {
     "data": {
      "text/plain": [
       "26629"
      ]
     },
     "execution_count": 194,
     "metadata": {},
     "output_type": "execute_result"
    }
   ],
   "source": [
    "(gb > 1).sum()"
   ]
  },
  {
   "cell_type": "code",
   "execution_count": 136,
   "id": "fe6e87f5",
   "metadata": {},
   "outputs": [
    {
     "data": {
      "text/plain": [
       "13"
      ]
     },
     "execution_count": 136,
     "metadata": {},
     "output_type": "execute_result"
    }
   ],
   "source": [
    "gb.max()"
   ]
  },
  {
   "cell_type": "code",
   "execution_count": 137,
   "id": "5fdebf7e",
   "metadata": {},
   "outputs": [
    {
     "data": {
      "text/plain": [
       "783746"
      ]
     },
     "execution_count": 137,
     "metadata": {},
     "output_type": "execute_result"
    }
   ],
   "source": [
    "len(gb)"
   ]
  },
  {
   "cell_type": "code",
   "execution_count": 138,
   "id": "df43f669",
   "metadata": {},
   "outputs": [
    {
     "data": {
      "text/plain": [
       "0.033976568939426806"
      ]
     },
     "execution_count": 138,
     "metadata": {},
     "output_type": "execute_result"
    }
   ],
   "source": [
    "26629 / 783746"
   ]
  },
  {
   "cell_type": "code",
   "execution_count": 141,
   "id": "392ce2f6",
   "metadata": {},
   "outputs": [
    {
     "data": {
      "text/plain": [
       "artist  track                          \n",
       "*NSYNC  Bye Bye Bye                        2\n",
       "        Crazy for You                      2\n",
       "        I Want You Back                    2\n",
       "        It's Gonna Be Me                   2\n",
       "        Merry Christmas, Happy Holidays    2\n",
       "                                          ..\n",
       "현아      Attention                          2\n",
       "        Bubble Pop!                        2\n",
       "        Change                             2\n",
       "        Change (feat. 용준형 from BEAST)      2\n",
       "        Ice Cream (feat. Maboos)           2\n",
       "Length: 20899, dtype: int64"
      ]
     },
     "execution_count": 141,
     "metadata": {},
     "output_type": "execute_result"
    }
   ],
   "source": [
    "gb[(gb==2)]"
   ]
  },
  {
   "cell_type": "code",
   "execution_count": 144,
   "id": "a73bc42d",
   "metadata": {},
   "outputs": [
    {
     "data": {
      "text/html": [
       "<div>\n",
       "<style scoped>\n",
       "    .dataframe tbody tr th:only-of-type {\n",
       "        vertical-align: middle;\n",
       "    }\n",
       "\n",
       "    .dataframe tbody tr th {\n",
       "        vertical-align: top;\n",
       "    }\n",
       "\n",
       "    .dataframe thead th {\n",
       "        text-align: right;\n",
       "    }\n",
       "</style>\n",
       "<table border=\"1\" class=\"dataframe\">\n",
       "  <thead>\n",
       "    <tr style=\"text-align: right;\">\n",
       "      <th></th>\n",
       "      <th>user_id</th>\n",
       "      <th>artist_id</th>\n",
       "      <th>album_id</th>\n",
       "      <th>track_id</th>\n",
       "      <th>timestamp</th>\n",
       "      <th>user_track_count</th>\n",
       "    </tr>\n",
       "  </thead>\n",
       "  <tbody>\n",
       "    <tr>\n",
       "      <th>35</th>\n",
       "      <td>31435741</td>\n",
       "      <td>13</td>\n",
       "      <td>15</td>\n",
       "      <td>17</td>\n",
       "      <td>1381747153</td>\n",
       "      <td>23</td>\n",
       "    </tr>\n",
       "    <tr>\n",
       "      <th>111</th>\n",
       "      <td>31435741</td>\n",
       "      <td>21</td>\n",
       "      <td>31</td>\n",
       "      <td>53</td>\n",
       "      <td>1369855872</td>\n",
       "      <td>54</td>\n",
       "    </tr>\n",
       "    <tr>\n",
       "      <th>195</th>\n",
       "      <td>31435741</td>\n",
       "      <td>32</td>\n",
       "      <td>46</td>\n",
       "      <td>86</td>\n",
       "      <td>1369568484</td>\n",
       "      <td>84</td>\n",
       "    </tr>\n",
       "    <tr>\n",
       "      <th>198</th>\n",
       "      <td>31435741</td>\n",
       "      <td>44</td>\n",
       "      <td>65</td>\n",
       "      <td>127</td>\n",
       "      <td>1369058705</td>\n",
       "      <td>3</td>\n",
       "    </tr>\n",
       "    <tr>\n",
       "      <th>317</th>\n",
       "      <td>31435741</td>\n",
       "      <td>45</td>\n",
       "      <td>67</td>\n",
       "      <td>131</td>\n",
       "      <td>1368809563</td>\n",
       "      <td>119</td>\n",
       "    </tr>\n",
       "    <tr>\n",
       "      <th>...</th>\n",
       "      <td>...</td>\n",
       "      <td>...</td>\n",
       "      <td>...</td>\n",
       "      <td>...</td>\n",
       "      <td>...</td>\n",
       "      <td>...</td>\n",
       "    </tr>\n",
       "    <tr>\n",
       "      <th>1052852448</th>\n",
       "      <td>49813688</td>\n",
       "      <td>16835</td>\n",
       "      <td>685125</td>\n",
       "      <td>18090682</td>\n",
       "      <td>1338280292</td>\n",
       "      <td>1</td>\n",
       "    </tr>\n",
       "    <tr>\n",
       "      <th>1052852451</th>\n",
       "      <td>49813688</td>\n",
       "      <td>2389</td>\n",
       "      <td>5193</td>\n",
       "      <td>14511</td>\n",
       "      <td>1337417750</td>\n",
       "      <td>1</td>\n",
       "    </tr>\n",
       "    <tr>\n",
       "      <th>1052852452</th>\n",
       "      <td>49813688</td>\n",
       "      <td>84717</td>\n",
       "      <td>359758</td>\n",
       "      <td>983496</td>\n",
       "      <td>1337417553</td>\n",
       "      <td>1</td>\n",
       "    </tr>\n",
       "    <tr>\n",
       "      <th>1052852453</th>\n",
       "      <td>49813688</td>\n",
       "      <td>73263</td>\n",
       "      <td>201517</td>\n",
       "      <td>568298</td>\n",
       "      <td>1337417279</td>\n",
       "      <td>1</td>\n",
       "    </tr>\n",
       "    <tr>\n",
       "      <th>1052852454</th>\n",
       "      <td>49813688</td>\n",
       "      <td>99</td>\n",
       "      <td>7280</td>\n",
       "      <td>29447655</td>\n",
       "      <td>1337366052</td>\n",
       "      <td>1</td>\n",
       "    </tr>\n",
       "  </tbody>\n",
       "</table>\n",
       "<p>6870775 rows × 6 columns</p>\n",
       "</div>"
      ],
      "text/plain": [
       "             user_id  artist_id  album_id  track_id   timestamp  \\\n",
       "35          31435741         13        15        17  1381747153   \n",
       "111         31435741         21        31        53  1369855872   \n",
       "195         31435741         32        46        86  1369568484   \n",
       "198         31435741         44        65       127  1369058705   \n",
       "317         31435741         45        67       131  1368809563   \n",
       "...              ...        ...       ...       ...         ...   \n",
       "1052852448  49813688      16835    685125  18090682  1338280292   \n",
       "1052852451  49813688       2389      5193     14511  1337417750   \n",
       "1052852452  49813688      84717    359758    983496  1337417553   \n",
       "1052852453  49813688      73263    201517    568298  1337417279   \n",
       "1052852454  49813688         99      7280  29447655  1337366052   \n",
       "\n",
       "            user_track_count  \n",
       "35                        23  \n",
       "111                       54  \n",
       "195                       84  \n",
       "198                        3  \n",
       "317                      119  \n",
       "...                      ...  \n",
       "1052852448                 1  \n",
       "1052852451                 1  \n",
       "1052852452                 1  \n",
       "1052852453                 1  \n",
       "1052852454                 1  \n",
       "\n",
       "[6870775 rows x 6 columns]"
      ]
     },
     "execution_count": 144,
     "metadata": {},
     "output_type": "execute_result"
    }
   ],
   "source": [
    "train"
   ]
  },
  {
   "cell_type": "code",
   "execution_count": 225,
   "id": "ee62b4a0",
   "metadata": {},
   "outputs": [],
   "source": [
    "train = train\n",
    "df_tracks = dataset.df_tracks\n",
    "df_tracks_dedup = df_tracks.copy()"
   ]
  },
  {
   "cell_type": "code",
   "execution_count": 226,
   "id": "c3406b3b",
   "metadata": {},
   "outputs": [],
   "source": [
    "train_dedup = train.copy()"
   ]
  },
  {
   "cell_type": "code",
   "execution_count": 237,
   "id": "33e07c10",
   "metadata": {},
   "outputs": [
    {
     "data": {
      "text/plain": [
       "62605"
      ]
     },
     "execution_count": 237,
     "metadata": {},
     "output_type": "execute_result"
    }
   ],
   "source": [
    "len(df_tracks_dedup.groupby(\"artist_id\"))"
   ]
  },
  {
   "cell_type": "code",
   "execution_count": 238,
   "id": "7ad10851",
   "metadata": {},
   "outputs": [
    {
     "data": {
      "text/plain": [
       "62605"
      ]
     },
     "execution_count": 238,
     "metadata": {},
     "output_type": "execute_result"
    }
   ],
   "source": [
    "len(df_tracks_dedup.groupby(\"artist\"))"
   ]
  },
  {
   "cell_type": "code",
   "execution_count": 239,
   "id": "6a97dd1f",
   "metadata": {},
   "outputs": [
    {
     "data": {
      "text/plain": [
       "62605"
      ]
     },
     "execution_count": 239,
     "metadata": {},
     "output_type": "execute_result"
    }
   ],
   "source": [
    "len(df_tracks.groupby(\"artist\"))"
   ]
  },
  {
   "cell_type": "code",
   "execution_count": 240,
   "id": "d0baeefe",
   "metadata": {},
   "outputs": [],
   "source": [
    "mapper = {}\n",
    "for artist_name, grp in df_tracks.groupby(\"artist\"):\n",
    "    counts = grp[\"artist_id\"].value_counts()\n",
    "    if len(counts) == 1: # no duplicates -- free to go\n",
    "        mapper[counts.index[0]] = counts.index[0]\n",
    "        continue\n",
    "    \n",
    "    unique_artist_id = counts.idxmax() # pick artist id of artist w/ largest # of songs\n",
    "    # this id is then propagated to all other tracks in train\n",
    "    \n",
    "    for k in counts.index:\n",
    "        mapper[k] = unique_artist_id\n",
    "    \n",
    "    art_id_set = set(counts.index)\n",
    "\n",
    "train_dedup[\"artist_id\"] = train_dedup[\"artist_id\"].map(mapper.get)\n",
    "df_tracks_dedup[\"artist_id\"] = df_tracks_dedup[\"artist_id\"].map(mapper.get)"
   ]
  },
  {
   "cell_type": "code",
   "execution_count": 261,
   "id": "f2ab321a",
   "metadata": {},
   "outputs": [],
   "source": [
    "mapper = { k: k for k in df_tracks.index }"
   ]
  },
  {
   "cell_type": "code",
   "execution_count": 262,
   "id": "a6b8598a",
   "metadata": {},
   "outputs": [],
   "source": [
    "drop_rows = []\n",
    "\n",
    "mapper = { k: k for k in df_tracks.index }\n",
    "for song_name, grp in df_tracks_dedup.groupby([\"artist_id\", \"track\"]):\n",
    "    \n",
    "    if len(grp) == 1:\n",
    "        continue # no duplicate songs here\n",
    "    \n",
    "    unique_track_id = grp.index[0] # pick any one id -- computing the most frequent one is too expensive\n",
    "    \n",
    "    for k in grp.index:\n",
    "        mapper[k] = grp.index[0]\n",
    "    \n",
    "#     trk_id_set = set(grp.index)\n",
    "#     train_dedup.loc[train_dedup[\"track_id\"].isin(trk_id_set), \"track_id\"] = unique_track_id\n",
    "    drop_rows.extend(grp.index[1:])\n",
    "\n",
    "train_dedup[\"track_id\"] = train_dedup[\"track_id\"].map(mapper.get)\n",
    "df_tracks_dedup.drop(drop_rows, inplace=True)"
   ]
  },
  {
   "cell_type": "code",
   "execution_count": 260,
   "id": "95cc778f",
   "metadata": {},
   "outputs": [
    {
     "data": {
      "text/plain": [
       "198"
      ]
     },
     "execution_count": 260,
     "metadata": {},
     "output_type": "execute_result"
    }
   ],
   "source": [
    "df_tracks.artist.isna().sum()"
   ]
  },
  {
   "cell_type": "code",
   "execution_count": 253,
   "id": "326acf48",
   "metadata": {},
   "outputs": [
    {
     "name": "stdout",
     "output_type": "stream",
     "text": [
      "1667806\n"
     ]
    }
   ],
   "source": [
    "for v in train[\"track_id\"]:\n",
    "    if v not in mapper:\n",
    "        print(v)\n",
    "        break"
   ]
  },
  {
   "cell_type": "code",
   "execution_count": 251,
   "id": "631143a5",
   "metadata": {},
   "outputs": [
    {
     "data": {
      "text/plain": [
       "143"
      ]
     },
     "execution_count": 251,
     "metadata": {},
     "output_type": "execute_result"
    }
   ],
   "source": [
    "train_dedup[\"track_id\"].isna().sum()"
   ]
  },
  {
   "cell_type": "code",
   "execution_count": 244,
   "id": "d567e5af",
   "metadata": {},
   "outputs": [
    {
     "data": {
      "text/plain": [
       "820998"
      ]
     },
     "execution_count": 244,
     "metadata": {},
     "output_type": "execute_result"
    }
   ],
   "source": [
    "len(df_tracks)"
   ]
  },
  {
   "cell_type": "code",
   "execution_count": 245,
   "id": "d22b4a3c",
   "metadata": {},
   "outputs": [
    {
     "data": {
      "text/plain": [
       "37053"
      ]
     },
     "execution_count": 245,
     "metadata": {},
     "output_type": "execute_result"
    }
   ],
   "source": [
    "820998-783945"
   ]
  },
  {
   "cell_type": "code",
   "execution_count": 247,
   "id": "49c17924",
   "metadata": {},
   "outputs": [
    {
     "data": {
      "text/plain": [
       "228335"
      ]
     },
     "execution_count": 247,
     "metadata": {},
     "output_type": "execute_result"
    }
   ],
   "source": [
    "len(train.groupby([\"artist_id\", \"track_id\"]))"
   ]
  },
  {
   "cell_type": "code",
   "execution_count": 248,
   "id": "3079466f",
   "metadata": {},
   "outputs": [
    {
     "data": {
      "text/plain": [
       "213222"
      ]
     },
     "execution_count": 248,
     "metadata": {},
     "output_type": "execute_result"
    }
   ],
   "source": [
    "len(train_dedup.groupby([\"artist_id\", \"track_id\"]))"
   ]
  },
  {
   "cell_type": "code",
   "execution_count": 195,
   "id": "2037c41b",
   "metadata": {},
   "outputs": [
    {
     "data": {
      "text/plain": [
       "26630"
      ]
     },
     "execution_count": 195,
     "metadata": {},
     "output_type": "execute_result"
    }
   ],
   "source": [
    "(df_tracks_dedup.groupby([\"artist_id\", \"track\"]).size()>1).sum()"
   ]
  },
  {
   "cell_type": "code",
   "execution_count": 175,
   "id": "bf679cd8",
   "metadata": {},
   "outputs": [
    {
     "data": {
      "text/plain": [
       "{4207, 2872335}"
      ]
     },
     "execution_count": 175,
     "metadata": {},
     "output_type": "execute_result"
    }
   ],
   "source": [
    "art_id_set"
   ]
  },
  {
   "cell_type": "code",
   "execution_count": 179,
   "id": "71b1ebb4",
   "metadata": {},
   "outputs": [
    {
     "data": {
      "text/plain": [
       "5014"
      ]
     },
     "execution_count": 179,
     "metadata": {},
     "output_type": "execute_result"
    }
   ],
   "source": [
    "(train[\"artist_id\"] == 4207).sum()"
   ]
  },
  {
   "cell_type": "code",
   "execution_count": 170,
   "id": "208108c9",
   "metadata": {},
   "outputs": [
    {
     "data": {
      "text/plain": [
       "8109"
      ]
     },
     "execution_count": 170,
     "metadata": {},
     "output_type": "execute_result"
    }
   ],
   "source": [
    "train_dedup[\"artist_id\"].map(lambda x: x in art_id_set).sum()"
   ]
  },
  {
   "cell_type": "code",
   "execution_count": 171,
   "id": "e07b1ed3",
   "metadata": {},
   "outputs": [
    {
     "data": {
      "text/plain": [
       "8109"
      ]
     },
     "execution_count": 171,
     "metadata": {},
     "output_type": "execute_result"
    }
   ],
   "source": [
    "train_dedup[\"artist_id\"].isin(art_id_set).sum()"
   ]
  },
  {
   "cell_type": "code",
   "execution_count": 161,
   "id": "16fb29ed",
   "metadata": {},
   "outputs": [
    {
     "data": {
      "text/plain": [
       "4207"
      ]
     },
     "execution_count": 161,
     "metadata": {},
     "output_type": "execute_result"
    }
   ],
   "source": [
    "counts.idxmax()"
   ]
  },
  {
   "cell_type": "code",
   "execution_count": 156,
   "id": "90b21f3f",
   "metadata": {},
   "outputs": [
    {
     "data": {
      "text/html": [
       "<div>\n",
       "<style scoped>\n",
       "    .dataframe tbody tr th:only-of-type {\n",
       "        vertical-align: middle;\n",
       "    }\n",
       "\n",
       "    .dataframe tbody tr th {\n",
       "        vertical-align: top;\n",
       "    }\n",
       "\n",
       "    .dataframe thead th {\n",
       "        text-align: right;\n",
       "    }\n",
       "</style>\n",
       "<table border=\"1\" class=\"dataframe\">\n",
       "  <thead>\n",
       "    <tr style=\"text-align: right;\">\n",
       "      <th></th>\n",
       "      <th>track</th>\n",
       "      <th>artist_id</th>\n",
       "      <th>artist</th>\n",
       "      <th>albums_id</th>\n",
       "      <th>albums</th>\n",
       "    </tr>\n",
       "    <tr>\n",
       "      <th>track_id</th>\n",
       "      <th></th>\n",
       "      <th></th>\n",
       "      <th></th>\n",
       "      <th></th>\n",
       "      <th></th>\n",
       "    </tr>\n",
       "  </thead>\n",
       "  <tbody>\n",
       "    <tr>\n",
       "      <th>29447888</th>\n",
       "      <td>Kings and Queens</td>\n",
       "      <td>2872335</td>\n",
       "      <td>30 Seconds to Mars</td>\n",
       "      <td>[14553500, 14554564, 14555583, 14568143, 14585...</td>\n",
       "      <td>['This Is War', 'This Is War', 'Kings and Quee...</td>\n",
       "    </tr>\n",
       "    <tr>\n",
       "      <th>29448199</th>\n",
       "      <td>This Is War</td>\n",
       "      <td>2872335</td>\n",
       "      <td>30 Seconds to Mars</td>\n",
       "      <td>[14553500, 14554564, 14565396, 14568143, 14581...</td>\n",
       "      <td>['This Is War', 'This Is War', 'Promo Only Mod...</td>\n",
       "    </tr>\n",
       "    <tr>\n",
       "      <th>29448511</th>\n",
       "      <td>The Story</td>\n",
       "      <td>2872335</td>\n",
       "      <td>30 Seconds to Mars</td>\n",
       "      <td>[14553741, 14553980, 14560137, 14560942, 14560...</td>\n",
       "      <td>['A Beautiful Lie', '30 Seconds to Mars', 'A B...</td>\n",
       "    </tr>\n",
       "    <tr>\n",
       "      <th>29449154</th>\n",
       "      <td>Was It a Dream?</td>\n",
       "      <td>2872335</td>\n",
       "      <td>30 Seconds to Mars</td>\n",
       "      <td>[14553741, 14553980, 14560137, 14560942, 14560...</td>\n",
       "      <td>['A Beautiful Lie', '30 Seconds to Mars', 'A B...</td>\n",
       "    </tr>\n",
       "    <tr>\n",
       "      <th>29449155</th>\n",
       "      <td>The Kill</td>\n",
       "      <td>2872335</td>\n",
       "      <td>30 Seconds to Mars</td>\n",
       "      <td>[14553741, 14553980, 14560942, 14560947, 14581...</td>\n",
       "      <td>['A Beautiful Lie', '30 Seconds to Mars', 'BEA...</td>\n",
       "    </tr>\n",
       "    <tr>\n",
       "      <th>...</th>\n",
       "      <td>...</td>\n",
       "      <td>...</td>\n",
       "      <td>...</td>\n",
       "      <td>...</td>\n",
       "      <td>...</td>\n",
       "    </tr>\n",
       "    <tr>\n",
       "      <th>29909848</th>\n",
       "      <td>My Favorite Noise - Commentary</td>\n",
       "      <td>2872335</td>\n",
       "      <td>30 Seconds to Mars</td>\n",
       "      <td>[14613898]</td>\n",
       "      <td>['Commentary Album']</td>\n",
       "    </tr>\n",
       "    <tr>\n",
       "      <th>29909849</th>\n",
       "      <td>The Echelon - Commentary</td>\n",
       "      <td>2872335</td>\n",
       "      <td>30 Seconds to Mars</td>\n",
       "      <td>[14613898]</td>\n",
       "      <td>['Commentary Album']</td>\n",
       "    </tr>\n",
       "    <tr>\n",
       "      <th>29909850</th>\n",
       "      <td>The Other Pursuits - Commentary</td>\n",
       "      <td>2872335</td>\n",
       "      <td>30 Seconds to Mars</td>\n",
       "      <td>[14613898]</td>\n",
       "      <td>['Commentary Album']</td>\n",
       "    </tr>\n",
       "    <tr>\n",
       "      <th>29909853</th>\n",
       "      <td>Just Show Up - Commentary</td>\n",
       "      <td>2872335</td>\n",
       "      <td>30 Seconds to Mars</td>\n",
       "      <td>[14613898]</td>\n",
       "      <td>['Commentary Album']</td>\n",
       "    </tr>\n",
       "    <tr>\n",
       "      <th>31643740</th>\n",
       "      <td>Edge of the Earth</td>\n",
       "      <td>2872335</td>\n",
       "      <td>30 Seconds to Mars</td>\n",
       "      <td>[14553980, 14554541, 14560137, 14605524]</td>\n",
       "      <td>['30 Seconds to Mars', '30 Seconds to Mars', '...</td>\n",
       "    </tr>\n",
       "  </tbody>\n",
       "</table>\n",
       "<p>97 rows × 5 columns</p>\n",
       "</div>"
      ],
      "text/plain": [
       "                                    track  artist_id              artist  \\\n",
       "track_id                                                                   \n",
       "29447888                 Kings and Queens    2872335  30 Seconds to Mars   \n",
       "29448199                      This Is War    2872335  30 Seconds to Mars   \n",
       "29448511                        The Story    2872335  30 Seconds to Mars   \n",
       "29449154                  Was It a Dream?    2872335  30 Seconds to Mars   \n",
       "29449155                         The Kill    2872335  30 Seconds to Mars   \n",
       "...                                   ...        ...                 ...   \n",
       "29909848   My Favorite Noise - Commentary    2872335  30 Seconds to Mars   \n",
       "29909849         The Echelon - Commentary    2872335  30 Seconds to Mars   \n",
       "29909850  The Other Pursuits - Commentary    2872335  30 Seconds to Mars   \n",
       "29909853        Just Show Up - Commentary    2872335  30 Seconds to Mars   \n",
       "31643740                Edge of the Earth    2872335  30 Seconds to Mars   \n",
       "\n",
       "                                                  albums_id  \\\n",
       "track_id                                                      \n",
       "29447888  [14553500, 14554564, 14555583, 14568143, 14585...   \n",
       "29448199  [14553500, 14554564, 14565396, 14568143, 14581...   \n",
       "29448511  [14553741, 14553980, 14560137, 14560942, 14560...   \n",
       "29449154  [14553741, 14553980, 14560137, 14560942, 14560...   \n",
       "29449155  [14553741, 14553980, 14560942, 14560947, 14581...   \n",
       "...                                                     ...   \n",
       "29909848                                         [14613898]   \n",
       "29909849                                         [14613898]   \n",
       "29909850                                         [14613898]   \n",
       "29909853                                         [14613898]   \n",
       "31643740           [14553980, 14554541, 14560137, 14605524]   \n",
       "\n",
       "                                                     albums  \n",
       "track_id                                                     \n",
       "29447888  ['This Is War', 'This Is War', 'Kings and Quee...  \n",
       "29448199  ['This Is War', 'This Is War', 'Promo Only Mod...  \n",
       "29448511  ['A Beautiful Lie', '30 Seconds to Mars', 'A B...  \n",
       "29449154  ['A Beautiful Lie', '30 Seconds to Mars', 'A B...  \n",
       "29449155  ['A Beautiful Lie', '30 Seconds to Mars', 'BEA...  \n",
       "...                                                     ...  \n",
       "29909848                               ['Commentary Album']  \n",
       "29909849                               ['Commentary Album']  \n",
       "29909850                               ['Commentary Album']  \n",
       "29909853                               ['Commentary Album']  \n",
       "31643740  ['30 Seconds to Mars', '30 Seconds to Mars', '...  \n",
       "\n",
       "[97 rows x 5 columns]"
      ]
     },
     "execution_count": 156,
     "metadata": {},
     "output_type": "execute_result"
    }
   ],
   "source": [
    "df_tracks[df_tracks[\"artist_id\"]==2872335]"
   ]
  }
 ],
 "metadata": {
  "kernelspec": {
   "display_name": "Python 3 (ipykernel)",
   "language": "python",
   "name": "python3"
  },
  "language_info": {
   "codemirror_mode": {
    "name": "ipython",
    "version": 3
   },
   "file_extension": ".py",
   "mimetype": "text/x-python",
   "name": "python",
   "nbconvert_exporter": "python",
   "pygments_lexer": "ipython3",
   "version": "3.8.10"
  }
 },
 "nbformat": 4,
 "nbformat_minor": 5
}
